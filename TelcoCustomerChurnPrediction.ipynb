{
 "cells": [
  {
   "cell_type": "code",
   "execution_count": 195,
   "id": "89f02cdc-ca16-4588-b52f-e56a8699eedd",
   "metadata": {},
   "outputs": [],
   "source": [
    "# Importing the necessary libraries\n",
    "\n",
    "import numpy as np\n",
    "import pandas as pd\n",
    "import seaborn as sns\n",
    "import matplotlib.pyplot as plt \n",
    "import warnings\n",
    "import random\n",
    "warnings.filterwarnings(\"ignore\") \n",
    "\n",
    "from sklearn.metrics import confusion_matrix, classification_report"
   ]
  },
  {
   "cell_type": "code",
   "execution_count": 196,
   "id": "fcdaccd9-0c90-40a9-a7e9-e5c4fc75622d",
   "metadata": {},
   "outputs": [
    {
     "data": {
      "text/html": [
       "<div>\n",
       "<style scoped>\n",
       "    .dataframe tbody tr th:only-of-type {\n",
       "        vertical-align: middle;\n",
       "    }\n",
       "\n",
       "    .dataframe tbody tr th {\n",
       "        vertical-align: top;\n",
       "    }\n",
       "\n",
       "    .dataframe thead th {\n",
       "        text-align: right;\n",
       "    }\n",
       "</style>\n",
       "<table border=\"1\" class=\"dataframe\">\n",
       "  <thead>\n",
       "    <tr style=\"text-align: right;\">\n",
       "      <th></th>\n",
       "      <th>customerID</th>\n",
       "      <th>Name</th>\n",
       "      <th>Gender</th>\n",
       "      <th>SeniorCitizen</th>\n",
       "      <th>Partner</th>\n",
       "      <th>Dependents</th>\n",
       "      <th>Tenure</th>\n",
       "      <th>PhoneService</th>\n",
       "      <th>MultipleLines</th>\n",
       "      <th>InternetService</th>\n",
       "      <th>...</th>\n",
       "      <th>Married</th>\n",
       "      <th>Avg Monthly Long Distance Charges</th>\n",
       "      <th>Avg Monthly GB Download</th>\n",
       "      <th>Streaming Music</th>\n",
       "      <th>Premium Tech Support</th>\n",
       "      <th>Unlimited Data</th>\n",
       "      <th>Total Refunds</th>\n",
       "      <th>Total Extra Data Charges</th>\n",
       "      <th>Total Long Distance Charges</th>\n",
       "      <th>Total Revenue</th>\n",
       "    </tr>\n",
       "  </thead>\n",
       "  <tbody>\n",
       "    <tr>\n",
       "      <th>0</th>\n",
       "      <td>3668-QPYBK</td>\n",
       "      <td>Nabin Sapkota</td>\n",
       "      <td>Male</td>\n",
       "      <td>0</td>\n",
       "      <td>No</td>\n",
       "      <td>No</td>\n",
       "      <td>2</td>\n",
       "      <td>Yes</td>\n",
       "      <td>No</td>\n",
       "      <td>DSL</td>\n",
       "      <td>...</td>\n",
       "      <td>No</td>\n",
       "      <td>314.1</td>\n",
       "      <td>21</td>\n",
       "      <td>No</td>\n",
       "      <td>No</td>\n",
       "      <td>Yes</td>\n",
       "      <td>0.0</td>\n",
       "      <td>0</td>\n",
       "      <td>628.2</td>\n",
       "      <td>3872.7</td>\n",
       "    </tr>\n",
       "    <tr>\n",
       "      <th>1</th>\n",
       "      <td>9237-HQITU</td>\n",
       "      <td>Deepika Danwar</td>\n",
       "      <td>Female</td>\n",
       "      <td>0</td>\n",
       "      <td>No</td>\n",
       "      <td>No</td>\n",
       "      <td>2</td>\n",
       "      <td>Yes</td>\n",
       "      <td>No</td>\n",
       "      <td>Fiber optic</td>\n",
       "      <td>...</td>\n",
       "      <td>No</td>\n",
       "      <td>273.6</td>\n",
       "      <td>51</td>\n",
       "      <td>No</td>\n",
       "      <td>No</td>\n",
       "      <td>Yes</td>\n",
       "      <td>0.0</td>\n",
       "      <td>0</td>\n",
       "      <td>547.2</td>\n",
       "      <td>5096.7</td>\n",
       "    </tr>\n",
       "    <tr>\n",
       "      <th>2</th>\n",
       "      <td>9305-CDSKC</td>\n",
       "      <td>Swati Baral</td>\n",
       "      <td>Female</td>\n",
       "      <td>0</td>\n",
       "      <td>No</td>\n",
       "      <td>No</td>\n",
       "      <td>8</td>\n",
       "      <td>Yes</td>\n",
       "      <td>Yes</td>\n",
       "      <td>Fiber optic</td>\n",
       "      <td>...</td>\n",
       "      <td>No</td>\n",
       "      <td>364.5</td>\n",
       "      <td>26</td>\n",
       "      <td>Yes</td>\n",
       "      <td>No</td>\n",
       "      <td>Yes</td>\n",
       "      <td>0.0</td>\n",
       "      <td>0</td>\n",
       "      <td>2916.0</td>\n",
       "      <td>27531.0</td>\n",
       "    </tr>\n",
       "    <tr>\n",
       "      <th>3</th>\n",
       "      <td>7892-POOKP</td>\n",
       "      <td>Kalpita Subba</td>\n",
       "      <td>Female</td>\n",
       "      <td>0</td>\n",
       "      <td>Yes</td>\n",
       "      <td>No</td>\n",
       "      <td>28</td>\n",
       "      <td>Yes</td>\n",
       "      <td>Yes</td>\n",
       "      <td>Fiber optic</td>\n",
       "      <td>...</td>\n",
       "      <td>Yes</td>\n",
       "      <td>146.7</td>\n",
       "      <td>47</td>\n",
       "      <td>Yes</td>\n",
       "      <td>Yes</td>\n",
       "      <td>Yes</td>\n",
       "      <td>0.0</td>\n",
       "      <td>0</td>\n",
       "      <td>4107.6</td>\n",
       "      <td>95489.1</td>\n",
       "    </tr>\n",
       "    <tr>\n",
       "      <th>4</th>\n",
       "      <td>0280-XJGEX</td>\n",
       "      <td>Tulsi Duwadi</td>\n",
       "      <td>Male</td>\n",
       "      <td>0</td>\n",
       "      <td>No</td>\n",
       "      <td>No</td>\n",
       "      <td>49</td>\n",
       "      <td>Yes</td>\n",
       "      <td>Yes</td>\n",
       "      <td>Fiber optic</td>\n",
       "      <td>...</td>\n",
       "      <td>No</td>\n",
       "      <td>1329.9</td>\n",
       "      <td>11</td>\n",
       "      <td>Yes</td>\n",
       "      <td>No</td>\n",
       "      <td>Yes</td>\n",
       "      <td>0.0</td>\n",
       "      <td>0</td>\n",
       "      <td>65165.1</td>\n",
       "      <td>216254.1</td>\n",
       "    </tr>\n",
       "    <tr>\n",
       "      <th>5</th>\n",
       "      <td>4190-MFLUW</td>\n",
       "      <td>Medhavi Magar</td>\n",
       "      <td>Female</td>\n",
       "      <td>0</td>\n",
       "      <td>Yes</td>\n",
       "      <td>Yes</td>\n",
       "      <td>10</td>\n",
       "      <td>Yes</td>\n",
       "      <td>No</td>\n",
       "      <td>DSL</td>\n",
       "      <td>...</td>\n",
       "      <td>Yes</td>\n",
       "      <td>282.3</td>\n",
       "      <td>69</td>\n",
       "      <td>No</td>\n",
       "      <td>Yes</td>\n",
       "      <td>Yes</td>\n",
       "      <td>0.0</td>\n",
       "      <td>0</td>\n",
       "      <td>2823.0</td>\n",
       "      <td>18673.5</td>\n",
       "    </tr>\n",
       "    <tr>\n",
       "      <th>6</th>\n",
       "      <td>8779-QRDMV</td>\n",
       "      <td>Kanak Pokhrel</td>\n",
       "      <td>Male</td>\n",
       "      <td>1</td>\n",
       "      <td>No</td>\n",
       "      <td>No</td>\n",
       "      <td>1</td>\n",
       "      <td>No</td>\n",
       "      <td>No phone service</td>\n",
       "      <td>DSL</td>\n",
       "      <td>...</td>\n",
       "      <td>No</td>\n",
       "      <td>0.0</td>\n",
       "      <td>8</td>\n",
       "      <td>No</td>\n",
       "      <td>No</td>\n",
       "      <td>No</td>\n",
       "      <td>0.0</td>\n",
       "      <td>600</td>\n",
       "      <td>0.0</td>\n",
       "      <td>1789.5</td>\n",
       "    </tr>\n",
       "    <tr>\n",
       "      <th>7</th>\n",
       "      <td>1066-JKSGK</td>\n",
       "      <td>Hina Paneru</td>\n",
       "      <td>Male</td>\n",
       "      <td>0</td>\n",
       "      <td>No</td>\n",
       "      <td>No</td>\n",
       "      <td>1</td>\n",
       "      <td>Yes</td>\n",
       "      <td>No</td>\n",
       "      <td>No</td>\n",
       "      <td>...</td>\n",
       "      <td>No</td>\n",
       "      <td>1007.4</td>\n",
       "      <td>0</td>\n",
       "      <td>No</td>\n",
       "      <td>No</td>\n",
       "      <td>No</td>\n",
       "      <td>0.0</td>\n",
       "      <td>0</td>\n",
       "      <td>1007.4</td>\n",
       "      <td>1611.9</td>\n",
       "    </tr>\n",
       "    <tr>\n",
       "      <th>8</th>\n",
       "      <td>6467-CHFZW</td>\n",
       "      <td>Dharma Sherpa</td>\n",
       "      <td>Male</td>\n",
       "      <td>0</td>\n",
       "      <td>Yes</td>\n",
       "      <td>Yes</td>\n",
       "      <td>47</td>\n",
       "      <td>Yes</td>\n",
       "      <td>Yes</td>\n",
       "      <td>Fiber optic</td>\n",
       "      <td>...</td>\n",
       "      <td>Yes</td>\n",
       "      <td>940.5</td>\n",
       "      <td>16</td>\n",
       "      <td>Yes</td>\n",
       "      <td>No</td>\n",
       "      <td>Yes</td>\n",
       "      <td>0.0</td>\n",
       "      <td>0</td>\n",
       "      <td>44203.5</td>\n",
       "      <td>186678.0</td>\n",
       "    </tr>\n",
       "    <tr>\n",
       "      <th>9</th>\n",
       "      <td>8665-UTDHZ</td>\n",
       "      <td>Mani Mali</td>\n",
       "      <td>Male</td>\n",
       "      <td>0</td>\n",
       "      <td>Yes</td>\n",
       "      <td>Yes</td>\n",
       "      <td>1</td>\n",
       "      <td>No</td>\n",
       "      <td>No phone service</td>\n",
       "      <td>DSL</td>\n",
       "      <td>...</td>\n",
       "      <td>Yes</td>\n",
       "      <td>0.0</td>\n",
       "      <td>58</td>\n",
       "      <td>No</td>\n",
       "      <td>No</td>\n",
       "      <td>Yes</td>\n",
       "      <td>0.0</td>\n",
       "      <td>0</td>\n",
       "      <td>0.0</td>\n",
       "      <td>906.0</td>\n",
       "    </tr>\n",
       "  </tbody>\n",
       "</table>\n",
       "<p>10 rows × 34 columns</p>\n",
       "</div>"
      ],
      "text/plain": [
       "   customerID            Name  Gender  SeniorCitizen Partner Dependents  \\\n",
       "0  3668-QPYBK   Nabin Sapkota    Male              0      No         No   \n",
       "1  9237-HQITU  Deepika Danwar  Female              0      No         No   \n",
       "2  9305-CDSKC     Swati Baral  Female              0      No         No   \n",
       "3  7892-POOKP   Kalpita Subba  Female              0     Yes         No   \n",
       "4  0280-XJGEX    Tulsi Duwadi    Male              0      No         No   \n",
       "5  4190-MFLUW   Medhavi Magar  Female              0     Yes        Yes   \n",
       "6  8779-QRDMV   Kanak Pokhrel    Male              1      No         No   \n",
       "7  1066-JKSGK     Hina Paneru    Male              0      No         No   \n",
       "8  6467-CHFZW   Dharma Sherpa    Male              0     Yes        Yes   \n",
       "9  8665-UTDHZ       Mani Mali    Male              0     Yes        Yes   \n",
       "\n",
       "   Tenure PhoneService     MultipleLines InternetService  ... Married  \\\n",
       "0       2          Yes                No             DSL  ...      No   \n",
       "1       2          Yes                No     Fiber optic  ...      No   \n",
       "2       8          Yes               Yes     Fiber optic  ...      No   \n",
       "3      28          Yes               Yes     Fiber optic  ...     Yes   \n",
       "4      49          Yes               Yes     Fiber optic  ...      No   \n",
       "5      10          Yes                No             DSL  ...     Yes   \n",
       "6       1           No  No phone service             DSL  ...      No   \n",
       "7       1          Yes                No              No  ...      No   \n",
       "8      47          Yes               Yes     Fiber optic  ...     Yes   \n",
       "9       1           No  No phone service             DSL  ...     Yes   \n",
       "\n",
       "  Avg Monthly Long Distance Charges Avg Monthly GB Download Streaming Music  \\\n",
       "0                             314.1                      21              No   \n",
       "1                             273.6                      51              No   \n",
       "2                             364.5                      26             Yes   \n",
       "3                             146.7                      47             Yes   \n",
       "4                            1329.9                      11             Yes   \n",
       "5                             282.3                      69              No   \n",
       "6                               0.0                       8              No   \n",
       "7                            1007.4                       0              No   \n",
       "8                             940.5                      16             Yes   \n",
       "9                               0.0                      58              No   \n",
       "\n",
       "  Premium Tech Support Unlimited Data Total Refunds Total Extra Data Charges  \\\n",
       "0                   No            Yes           0.0                        0   \n",
       "1                   No            Yes           0.0                        0   \n",
       "2                   No            Yes           0.0                        0   \n",
       "3                  Yes            Yes           0.0                        0   \n",
       "4                   No            Yes           0.0                        0   \n",
       "5                  Yes            Yes           0.0                        0   \n",
       "6                   No             No           0.0                      600   \n",
       "7                   No             No           0.0                        0   \n",
       "8                   No            Yes           0.0                        0   \n",
       "9                   No            Yes           0.0                        0   \n",
       "\n",
       "  Total Long Distance Charges  Total Revenue  \n",
       "0                       628.2         3872.7  \n",
       "1                       547.2         5096.7  \n",
       "2                      2916.0        27531.0  \n",
       "3                      4107.6        95489.1  \n",
       "4                     65165.1       216254.1  \n",
       "5                      2823.0        18673.5  \n",
       "6                         0.0         1789.5  \n",
       "7                      1007.4         1611.9  \n",
       "8                     44203.5       186678.0  \n",
       "9                         0.0          906.0  \n",
       "\n",
       "[10 rows x 34 columns]"
      ]
     },
     "execution_count": 196,
     "metadata": {},
     "output_type": "execute_result"
    }
   ],
   "source": [
    "# Read dataset using pandas library\n",
    "\n",
    "df= pd.read_csv('Dataset_new.csv')  \n",
    "df.head(10)"
   ]
  },
  {
   "cell_type": "markdown",
   "id": "da36ef9e-875a-4f63-a3f5-9b6934b3e052",
   "metadata": {},
   "source": [
    "# Data Cleaning "
   ]
  },
  {
   "cell_type": "markdown",
   "id": "724ef6a7-edf3-4903-a791-45b542bb082d",
   "metadata": {},
   "source": [
    "Dropping columns which are not required for the data analysis and modeling purpose"
   ]
  },
  {
   "cell_type": "code",
   "execution_count": 197,
   "id": "d37e6e3e-bed3-4050-bef8-b1824ee986bc",
   "metadata": {},
   "outputs": [],
   "source": [
    "drop_columns= ['customerID','Name']\n",
    "df.drop(drop_columns,inplace=True, axis=1)"
   ]
  },
  {
   "cell_type": "markdown",
   "id": "6618e5e4-2dcb-47fc-bd78-12af54add543",
   "metadata": {},
   "source": [
    "Since, the customer ID and Name which are not required for prediction are removed. Let's view the final table after removal."
   ]
  },
  {
   "cell_type": "markdown",
   "id": "fd2abf13-9c67-4454-8633-8954d0215a7b",
   "metadata": {},
   "source": [
    "Converting Senior Citizen to Object\n"
   ]
  },
  {
   "cell_type": "code",
   "execution_count": 198,
   "id": "5cd50cb3-cd54-445d-9b15-6a063eb4537f",
   "metadata": {},
   "outputs": [],
   "source": [
    "df['SeniorCitizen'].replace({0 : 'No', 1 : 'Yes'}, inplace=True) "
   ]
  },
  {
   "cell_type": "markdown",
   "id": "ab88b44a-2b34-4b58-a2a3-fe14229aca7e",
   "metadata": {},
   "source": [
    "Since, Tenure can't be zero lets fix it!"
   ]
  },
  {
   "cell_type": "code",
   "execution_count": 199,
   "id": "a2d1cf71-0fad-4d5b-ae4c-0ff9a32c3271",
   "metadata": {},
   "outputs": [],
   "source": [
    "df['Tenure'].replace({0 : np.nan}, inplace=True)"
   ]
  },
  {
   "cell_type": "markdown",
   "id": "c464ccf3-2e01-47b9-9eee-bc786adaaf31",
   "metadata": {},
   "source": [
    "Checking null values in each columns"
   ]
  },
  {
   "cell_type": "code",
   "execution_count": 200,
   "id": "bfc28228-ea7e-4be2-bc9d-084291173611",
   "metadata": {},
   "outputs": [
    {
     "data": {
      "text/plain": [
       "Gender                                0\n",
       "SeniorCitizen                         0\n",
       "Partner                               0\n",
       "Dependents                            0\n",
       "Tenure                               11\n",
       "PhoneService                          0\n",
       "MultipleLines                         0\n",
       "InternetService                       0\n",
       "OnlineSecurity                        0\n",
       "OnlineBackup                          0\n",
       "DeviceProtection                      0\n",
       "TechSupport                           0\n",
       "StreamingTV                           0\n",
       "StreamingMovies                       0\n",
       "Contract                              0\n",
       "PaperlessBilling                      0\n",
       "PaymentMethod                         0\n",
       "MonthlyCharges                        0\n",
       "TotalCharges                         11\n",
       "Churn                                 0\n",
       "Age                                   0\n",
       "Under 30                              0\n",
       "Married                               0\n",
       "Avg Monthly Long Distance Charges     0\n",
       "Avg Monthly GB Download               0\n",
       "Streaming Music                       0\n",
       "Premium Tech Support                  0\n",
       "Unlimited Data                        0\n",
       "Total Refunds                         0\n",
       "Total Extra Data Charges              0\n",
       "Total Long Distance Charges           0\n",
       "Total Revenue                         0\n",
       "dtype: int64"
      ]
     },
     "execution_count": 200,
     "metadata": {},
     "output_type": "execute_result"
    }
   ],
   "source": [
    "df.isnull().sum()"
   ]
  },
  {
   "cell_type": "markdown",
   "id": "b7a48ba9-d8fb-4998-982f-493dbe1ebaf7",
   "metadata": {},
   "source": [
    "Since, there are 11 null values in Total charges. As there are total of 7043 columns, \n",
    "dropping only 11 won't make huge impacts"
   ]
  },
  {
   "cell_type": "code",
   "execution_count": 201,
   "id": "1ec70689-3ed7-436c-85fd-683e23c3f985",
   "metadata": {},
   "outputs": [],
   "source": [
    "df.dropna(inplace=True)"
   ]
  },
  {
   "cell_type": "markdown",
   "id": "9497a452-61e4-47aa-9a21-002122b37099",
   "metadata": {},
   "source": [
    "After, removing null values let us check them back if null values are removed!"
   ]
  },
  {
   "cell_type": "code",
   "execution_count": 202,
   "id": "bb316172-2e68-443b-bab1-bb77f0ff9282",
   "metadata": {},
   "outputs": [
    {
     "data": {
      "text/plain": [
       "Gender                               0\n",
       "SeniorCitizen                        0\n",
       "Partner                              0\n",
       "Dependents                           0\n",
       "Tenure                               0\n",
       "PhoneService                         0\n",
       "MultipleLines                        0\n",
       "InternetService                      0\n",
       "OnlineSecurity                       0\n",
       "OnlineBackup                         0\n",
       "DeviceProtection                     0\n",
       "TechSupport                          0\n",
       "StreamingTV                          0\n",
       "StreamingMovies                      0\n",
       "Contract                             0\n",
       "PaperlessBilling                     0\n",
       "PaymentMethod                        0\n",
       "MonthlyCharges                       0\n",
       "TotalCharges                         0\n",
       "Churn                                0\n",
       "Age                                  0\n",
       "Under 30                             0\n",
       "Married                              0\n",
       "Avg Monthly Long Distance Charges    0\n",
       "Avg Monthly GB Download              0\n",
       "Streaming Music                      0\n",
       "Premium Tech Support                 0\n",
       "Unlimited Data                       0\n",
       "Total Refunds                        0\n",
       "Total Extra Data Charges             0\n",
       "Total Long Distance Charges          0\n",
       "Total Revenue                        0\n",
       "dtype: int64"
      ]
     },
     "execution_count": 202,
     "metadata": {},
     "output_type": "execute_result"
    }
   ],
   "source": [
    "df.isnull().sum()"
   ]
  },
  {
   "cell_type": "markdown",
   "id": "6c19a77a-7d10-4c80-911f-eed4d160a0c7",
   "metadata": {},
   "source": [
    "Check for the total churn values in our datasets"
   ]
  },
  {
   "cell_type": "code",
   "execution_count": 203,
   "id": "fc36fee2-7bdc-4446-99c3-0d9f1d2ca64d",
   "metadata": {},
   "outputs": [
    {
     "data": {
      "text/plain": [
       "Churn\n",
       "No     5163\n",
       "Yes    1869\n",
       "Name: count, dtype: int64"
      ]
     },
     "execution_count": 203,
     "metadata": {},
     "output_type": "execute_result"
    }
   ],
   "source": [
    "df['Churn'].value_counts()"
   ]
  },
  {
   "cell_type": "markdown",
   "id": "2ab1fa40-2c36-40d5-b20f-1ffb45cfec05",
   "metadata": {},
   "source": [
    "### Dealing with categorical columns"
   ]
  },
  {
   "cell_type": "markdown",
   "id": "93eff78b-8497-4a18-8782-8060ca72b523",
   "metadata": {},
   "source": [
    "Choosing all the categorical columns"
   ]
  },
  {
   "cell_type": "code",
   "execution_count": 204,
   "id": "359e0bac-d6a9-4bd8-a8fb-df2a3380cf62",
   "metadata": {},
   "outputs": [],
   "source": [
    "categorical_columns = df.select_dtypes(include=\"object\")"
   ]
  },
  {
   "cell_type": "markdown",
   "id": "2951ecea-56d7-4f91-896b-4ac79786bdd4",
   "metadata": {},
   "source": [
    "Selecting each of the unique values from the categorical columns "
   ]
  },
  {
   "cell_type": "code",
   "execution_count": 205,
   "id": "6ce3d55e-bcd3-4b6c-8863-ed3ca8aaf7dc",
   "metadata": {},
   "outputs": [
    {
     "name": "stdout",
     "output_type": "stream",
     "text": [
      "Gender : ['Male' 'Female']\n",
      "SeniorCitizen : ['No' 'Yes']\n",
      "Partner : ['No' 'Yes']\n",
      "Dependents : ['No' 'Yes']\n",
      "PhoneService : ['Yes' 'No']\n",
      "MultipleLines : ['No' 'Yes' 'No phone service']\n",
      "InternetService : ['DSL' 'Fiber optic' 'No']\n",
      "OnlineSecurity : ['Yes' 'No' 'No internet service']\n",
      "OnlineBackup : ['Yes' 'No' 'No internet service']\n",
      "DeviceProtection : ['No' 'Yes' 'No internet service']\n",
      "TechSupport : ['No' 'Yes' 'No internet service']\n",
      "StreamingTV : ['No' 'Yes' 'No internet service']\n",
      "StreamingMovies : ['No' 'Yes' 'No internet service']\n",
      "Contract : ['Month-to-month' 'Two year' 'One year']\n",
      "PaperlessBilling : ['Yes' 'No']\n",
      "PaymentMethod : ['eSewa' 'Cash' 'Mobile Banking' 'Credit card (automatic)']\n",
      "Churn : ['Yes' 'No']\n",
      "Under 30 : ['No' 'Yes']\n",
      "Married : ['No' 'Yes']\n",
      "Streaming Music : ['No' 'Yes']\n",
      "Premium Tech Support : ['No' 'Yes']\n",
      "Unlimited Data : ['Yes' 'No']\n"
     ]
    }
   ],
   "source": [
    "for column in categorical_columns.columns:\n",
    "    label = f'{column} : {categorical_columns[column].unique()}'\n",
    "    print(label)"
   ]
  },
  {
   "cell_type": "markdown",
   "id": "20df5ea5-b242-41ca-95b0-1a5fee6e5eb5",
   "metadata": {},
   "source": [
    "Since 'No internet service' and 'No phone service' are same as 'No'. Replace them with 'No'"
   ]
  },
  {
   "cell_type": "code",
   "execution_count": 206,
   "id": "bf05d850-de1b-434e-b9ae-8a2507366273",
   "metadata": {},
   "outputs": [],
   "source": [
    "df.replace('No internet service','No',inplace=True)\n",
    "df.replace('No phone service','No',inplace=True)"
   ]
  },
  {
   "cell_type": "markdown",
   "id": "d74b45a7-db34-4e19-beee-2efe942316e4",
   "metadata": {},
   "source": [
    "Checking if the values are replaced. "
   ]
  },
  {
   "cell_type": "code",
   "execution_count": 207,
   "id": "b72c9647-57ec-418d-807b-67d8e61d3ad6",
   "metadata": {},
   "outputs": [
    {
     "name": "stdout",
     "output_type": "stream",
     "text": [
      "Gender : ['Male' 'Female']\n",
      "SeniorCitizen : ['No' 'Yes']\n",
      "Partner : ['No' 'Yes']\n",
      "Dependents : ['No' 'Yes']\n",
      "PhoneService : ['Yes' 'No']\n",
      "MultipleLines : ['No' 'Yes']\n",
      "InternetService : ['DSL' 'Fiber optic' 'No']\n",
      "OnlineSecurity : ['Yes' 'No']\n",
      "OnlineBackup : ['Yes' 'No']\n",
      "DeviceProtection : ['No' 'Yes']\n",
      "TechSupport : ['No' 'Yes']\n",
      "StreamingTV : ['No' 'Yes']\n",
      "StreamingMovies : ['No' 'Yes']\n",
      "Contract : ['Month-to-month' 'Two year' 'One year']\n",
      "PaperlessBilling : ['Yes' 'No']\n",
      "PaymentMethod : ['eSewa' 'Cash' 'Mobile Banking' 'Credit card (automatic)']\n",
      "Churn : ['Yes' 'No']\n",
      "Under 30 : ['No' 'Yes']\n",
      "Married : ['No' 'Yes']\n",
      "Streaming Music : ['No' 'Yes']\n",
      "Premium Tech Support : ['No' 'Yes']\n",
      "Unlimited Data : ['Yes' 'No']\n"
     ]
    }
   ],
   "source": [
    "categorical_columns = df.select_dtypes(include=\"object\")\n",
    "for column in categorical_columns.columns:\n",
    "    label = f'{column} : {categorical_columns[column].unique()}'\n",
    "    print(label)"
   ]
  },
  {
   "cell_type": "code",
   "execution_count": 208,
   "id": "d69b727d-32e6-4911-bdd4-05e43cecdaa8",
   "metadata": {},
   "outputs": [],
   "source": [
    "Palette_values = ['Pastel1', 'Pastel1_r', 'Pastel2', 'Pastel2_r', 'cubehelix', 'cubehelix_r', 'terrain', 'terrain_r', 'tab10', 'tab10_r',\n",
    "                             'tab20', 'tab20_r', 'tab20b', 'tab20b_r', 'tab20c', 'tab20c_r', 'viridis', 'viridis_r', 'plasma', 'plasma_r']\n"
   ]
  },
  {
   "cell_type": "markdown",
   "id": "908a0454-a878-460f-b61e-65e95dd3f75b",
   "metadata": {},
   "source": [
    "Differentiate categorical and numerical values for visualizing data"
   ]
  },
  {
   "cell_type": "code",
   "execution_count": 209,
   "id": "4b435563-cf0a-40f0-8611-02de785b1e03",
   "metadata": {},
   "outputs": [],
   "source": [
    "features = df.drop('Churn', axis=1)\n",
    "target = df['Churn']\n",
    "numerical_columns = features.select_dtypes(exclude='object').columns.tolist()\n",
    "categorical_columns = features.select_dtypes(include='object').columns.tolist()"
   ]
  },
  {
   "cell_type": "markdown",
   "id": "204f64b1-7843-43d0-8c8a-78cd4a69bc69",
   "metadata": {},
   "source": [
    "### Working with categorical values"
   ]
  },
  {
   "cell_type": "code",
   "execution_count": 210,
   "id": "d85d3e93-98b4-4638-8568-d57f8288beae",
   "metadata": {},
   "outputs": [
    {
     "data": {
      "text/plain": [
       "21"
      ]
     },
     "execution_count": 210,
     "metadata": {},
     "output_type": "execute_result"
    }
   ],
   "source": [
    "len(categorical_columns)"
   ]
  },
  {
   "cell_type": "markdown",
   "id": "cc26d63f-2bf7-4dcf-8e1d-0f55620ffa93",
   "metadata": {},
   "source": [
    "There are total of 21 categorical columns. Let's view them"
   ]
  },
  {
   "cell_type": "code",
   "execution_count": 211,
   "id": "fde0d99c-5830-4466-af3c-9e7282b17284",
   "metadata": {},
   "outputs": [
    {
     "data": {
      "text/plain": [
       "['Gender',\n",
       " 'SeniorCitizen',\n",
       " 'Partner',\n",
       " 'Dependents',\n",
       " 'PhoneService',\n",
       " 'MultipleLines',\n",
       " 'InternetService',\n",
       " 'OnlineSecurity',\n",
       " 'OnlineBackup',\n",
       " 'DeviceProtection',\n",
       " 'TechSupport',\n",
       " 'StreamingTV',\n",
       " 'StreamingMovies',\n",
       " 'Contract',\n",
       " 'PaperlessBilling',\n",
       " 'PaymentMethod',\n",
       " 'Under 30',\n",
       " 'Married',\n",
       " 'Streaming Music',\n",
       " 'Premium Tech Support',\n",
       " 'Unlimited Data']"
      ]
     },
     "execution_count": 211,
     "metadata": {},
     "output_type": "execute_result"
    }
   ],
   "source": [
    "categorical_columns"
   ]
  },
  {
   "cell_type": "markdown",
   "id": "04cd57bb-d0cb-4918-a631-1972b5874d08",
   "metadata": {},
   "source": [
    "### Target Variable check"
   ]
  },
  {
   "cell_type": "code",
   "execution_count": 212,
   "id": "0a2a8b5f-a7fe-4155-9366-a9a7a69c01c2",
   "metadata": {},
   "outputs": [
    {
     "data": {
      "image/png": "[encoded data removed]",
      "text/plain": [
       "<Figure size 800x800 with 1 Axes>"
      ]
     },
     "metadata": {},
     "output_type": "display_data"
    }
   ],
   "source": [
    "# Create a pie chart for the \"Churn\" column in the DataFrame\n",
    "\n",
    "plt.figure(figsize=(8, 8))  \n",
    "colors = ['#4169e1', '#ff0000']\n",
    "\n",
    "# Set shadow, startangle, labels, autopct, explode, and colors\n",
    "\n",
    "plt.pie(df[\"Churn\"].value_counts(), shadow=True, startangle=45,\n",
    "        labels=df[\"Churn\"].value_counts().index, autopct='%0.1f%%',\n",
    "        explode=(0, 0.08), colors=colors)\n",
    "\n",
    "# Create a white circle at the center to make a donut chart\n",
    "\n",
    "centre_circle = plt.Circle((0, 0), 0.5, color='white', fc='white')\n",
    "plt.gca().add_artist(centre_circle)\n",
    "\n",
    "plt.title('Churn Rate - Small Donut Chart')\n",
    "plt.savefig('Churn_rate_small_donut.png')\n",
    "plt.show()\n"
   ]
  },
  {
   "cell_type": "markdown",
   "id": "2d3ed129-6d9a-4096-9846-62a2eee7141c",
   "metadata": {},
   "source": [
    "### Checking for outliers"
   ]
  },
  {
   "cell_type": "code",
   "execution_count": 213,
   "id": "1b017ed9-0a57-46d0-bd22-47d36b7ff391",
   "metadata": {},
   "outputs": [
    {
     "data": {
      "text/plain": [
       "['Tenure',\n",
       " 'MonthlyCharges',\n",
       " 'TotalCharges',\n",
       " 'Age',\n",
       " 'Avg Monthly Long Distance Charges',\n",
       " 'Avg Monthly GB Download',\n",
       " 'Total Refunds',\n",
       " 'Total Extra Data Charges',\n",
       " 'Total Long Distance Charges',\n",
       " 'Total Revenue']"
      ]
     },
     "execution_count": 213,
     "metadata": {},
     "output_type": "execute_result"
    }
   ],
   "source": [
    "num_columns = df.select_dtypes(exclude='object').columns.tolist()\n",
    "num_columns"
   ]
  },
  {
   "cell_type": "markdown",
   "id": "8ba7c248-5a17-4ba2-879b-9976df5576f0",
   "metadata": {},
   "source": [
    "### Applying z-score to check if there are any outliers in our datasets\n"
   ]
  },
  {
   "cell_type": "markdown",
   "id": "2bd5ca85-19a3-4ab3-82ac-c451ebf066fa",
   "metadata": {},
   "source": [
    "If the z-score is greater than and equals to 3. We have outliers in that column."
   ]
  },
  {
   "cell_type": "code",
   "execution_count": 214,
   "id": "715c7576-dffb-4766-982c-14a36692cd59",
   "metadata": {},
   "outputs": [],
   "source": [
    "# Define a function to fill missing values with the mean of each column.\n",
    "\n",
    "def replace_outliers(value, mean, std):\n",
    "    z_score = np.abs(value - mean) / std\n",
    "    return value if z_score <= 3 else np.nan\n",
    "\n",
    "# Applies to each column of the DataFrame using the apply method\n",
    "# Only fills missing values if any are present in the column\n",
    "\n",
    "for column in numerical_columns:\n",
    "    mean = df[column].mean()\n",
    "    std = df[column].std()\n",
    "    df[column] = df[column].apply(replace_outliers, args=(mean, std))\n"
   ]
  },
  {
   "cell_type": "code",
   "execution_count": 215,
   "id": "c824ef22-710d-4234-8c9e-d78692eff59f",
   "metadata": {},
   "outputs": [
    {
     "data": {
      "text/plain": [
       "Gender                                 0\n",
       "SeniorCitizen                          0\n",
       "Partner                                0\n",
       "Dependents                             0\n",
       "Tenure                                 0\n",
       "PhoneService                           0\n",
       "MultipleLines                          0\n",
       "InternetService                        0\n",
       "OnlineSecurity                         0\n",
       "OnlineBackup                           0\n",
       "DeviceProtection                       0\n",
       "TechSupport                            0\n",
       "StreamingTV                            0\n",
       "StreamingMovies                        0\n",
       "Contract                               0\n",
       "PaperlessBilling                       0\n",
       "PaymentMethod                          0\n",
       "MonthlyCharges                         0\n",
       "TotalCharges                           0\n",
       "Churn                                  0\n",
       "Age                                    0\n",
       "Under 30                               0\n",
       "Married                                0\n",
       "Avg Monthly Long Distance Charges      0\n",
       "Avg Monthly GB Download               91\n",
       "Streaming Music                        0\n",
       "Premium Tech Support                   0\n",
       "Unlimited Data                         0\n",
       "Total Refunds                        266\n",
       "Total Extra Data Charges             259\n",
       "Total Long Distance Charges           57\n",
       "Total Revenue                          4\n",
       "dtype: int64"
      ]
     },
     "execution_count": 215,
     "metadata": {},
     "output_type": "execute_result"
    }
   ],
   "source": [
    "df.isnull().sum()"
   ]
  },
  {
   "cell_type": "markdown",
   "id": "451dcffb-a68a-44ab-813e-bc099c2b8b95",
   "metadata": {},
   "source": [
    "Outliers found in Total Refunds, Total Extra Data Charges, Total Long Distance Charges, Total Revenue and Avg Monthly GB Download. Now, we have to remove outliers."
   ]
  },
  {
   "cell_type": "markdown",
   "id": "e35e3832-cc32-4c57-a569-4a758604e106",
   "metadata": {},
   "source": [
    "### Replacing the outliers with null values by applying mean methods"
   ]
  },
  {
   "cell_type": "code",
   "execution_count": 216,
   "id": "45a1fc30-87e3-4cd9-92c4-500fa13e7d41",
   "metadata": {},
   "outputs": [],
   "source": [
    "# Assuming 'df' is a DataFrame with potentially missing values\n",
    "# Applying a lambda function to each column of the DataFrame\n",
    "\n",
    "df = df.apply(lambda column: column.fillna(column.mean()) if column.isnull().any() else column, axis=0)\n",
    "\n"
   ]
  },
  {
   "cell_type": "code",
   "execution_count": 217,
   "id": "e8965d84-a8a0-482b-94bc-f4a576a8cf08",
   "metadata": {},
   "outputs": [
    {
     "data": {
      "text/plain": [
       "Gender                               0\n",
       "SeniorCitizen                        0\n",
       "Partner                              0\n",
       "Dependents                           0\n",
       "Tenure                               0\n",
       "PhoneService                         0\n",
       "MultipleLines                        0\n",
       "InternetService                      0\n",
       "OnlineSecurity                       0\n",
       "OnlineBackup                         0\n",
       "DeviceProtection                     0\n",
       "TechSupport                          0\n",
       "StreamingTV                          0\n",
       "StreamingMovies                      0\n",
       "Contract                             0\n",
       "PaperlessBilling                     0\n",
       "PaymentMethod                        0\n",
       "MonthlyCharges                       0\n",
       "TotalCharges                         0\n",
       "Churn                                0\n",
       "Age                                  0\n",
       "Under 30                             0\n",
       "Married                              0\n",
       "Avg Monthly Long Distance Charges    0\n",
       "Avg Monthly GB Download              0\n",
       "Streaming Music                      0\n",
       "Premium Tech Support                 0\n",
       "Unlimited Data                       0\n",
       "Total Refunds                        0\n",
       "Total Extra Data Charges             0\n",
       "Total Long Distance Charges          0\n",
       "Total Revenue                        0\n",
       "dtype: int64"
      ]
     },
     "execution_count": 217,
     "metadata": {},
     "output_type": "execute_result"
    }
   ],
   "source": [
    "# Checking back all the null values or outliers again\n",
    "df.isnull().sum()"
   ]
  },
  {
   "cell_type": "code",
   "execution_count": 218,
   "id": "b99c14cc-8b1a-4b17-ba39-4129b66171e2",
   "metadata": {},
   "outputs": [],
   "source": [
    "df['Churn'].replace({'Yes' : 1, 'No' : 0}, inplace = True)\n"
   ]
  },
  {
   "cell_type": "markdown",
   "id": "aacb4d1e-a7be-451e-998b-3e8d0ca73140",
   "metadata": {},
   "source": [
    "### Move the churn column to the last!"
   ]
  },
  {
   "cell_type": "code",
   "execution_count": 219,
   "id": "9f47522e-d1da-4af7-a26f-a859f1401262",
   "metadata": {},
   "outputs": [],
   "source": [
    "# To move the churn or target column to the last. Use the pop method, store it in churn column and insert it in the df again. \n",
    "\n",
    "churn_column = df.pop('Churn')\n",
    "df.insert(len(df.columns), 'Churn', churn_column)\n"
   ]
  },
  {
   "cell_type": "code",
   "execution_count": 220,
   "id": "53a731e3-e347-44bf-9688-f9353d61bceb",
   "metadata": {},
   "outputs": [
    {
     "data": {
      "text/html": [
       "<div>\n",
       "<style scoped>\n",
       "    .dataframe tbody tr th:only-of-type {\n",
       "        vertical-align: middle;\n",
       "    }\n",
       "\n",
       "    .dataframe tbody tr th {\n",
       "        vertical-align: top;\n",
       "    }\n",
       "\n",
       "    .dataframe thead th {\n",
       "        text-align: right;\n",
       "    }\n",
       "</style>\n",
       "<table border=\"1\" class=\"dataframe\">\n",
       "  <thead>\n",
       "    <tr style=\"text-align: right;\">\n",
       "      <th></th>\n",
       "      <th>Gender</th>\n",
       "      <th>SeniorCitizen</th>\n",
       "      <th>Partner</th>\n",
       "      <th>Dependents</th>\n",
       "      <th>Tenure</th>\n",
       "      <th>PhoneService</th>\n",
       "      <th>MultipleLines</th>\n",
       "      <th>InternetService</th>\n",
       "      <th>OnlineSecurity</th>\n",
       "      <th>OnlineBackup</th>\n",
       "      <th>...</th>\n",
       "      <th>Avg Monthly Long Distance Charges</th>\n",
       "      <th>Avg Monthly GB Download</th>\n",
       "      <th>Streaming Music</th>\n",
       "      <th>Premium Tech Support</th>\n",
       "      <th>Unlimited Data</th>\n",
       "      <th>Total Refunds</th>\n",
       "      <th>Total Extra Data Charges</th>\n",
       "      <th>Total Long Distance Charges</th>\n",
       "      <th>Total Revenue</th>\n",
       "      <th>Churn</th>\n",
       "    </tr>\n",
       "  </thead>\n",
       "  <tbody>\n",
       "    <tr>\n",
       "      <th>7033</th>\n",
       "      <td>Female</td>\n",
       "      <td>No</td>\n",
       "      <td>No</td>\n",
       "      <td>No</td>\n",
       "      <td>2.0</td>\n",
       "      <td>Yes</td>\n",
       "      <td>No</td>\n",
       "      <td>No</td>\n",
       "      <td>No</td>\n",
       "      <td>No</td>\n",
       "      <td>...</td>\n",
       "      <td>205.5</td>\n",
       "      <td>0.0</td>\n",
       "      <td>No</td>\n",
       "      <td>No</td>\n",
       "      <td>No</td>\n",
       "      <td>0.000000</td>\n",
       "      <td>0.0</td>\n",
       "      <td>411.0</td>\n",
       "      <td>1588.5</td>\n",
       "      <td>0</td>\n",
       "    </tr>\n",
       "    <tr>\n",
       "      <th>7034</th>\n",
       "      <td>Male</td>\n",
       "      <td>Yes</td>\n",
       "      <td>Yes</td>\n",
       "      <td>No</td>\n",
       "      <td>55.0</td>\n",
       "      <td>Yes</td>\n",
       "      <td>Yes</td>\n",
       "      <td>DSL</td>\n",
       "      <td>Yes</td>\n",
       "      <td>Yes</td>\n",
       "      <td>...</td>\n",
       "      <td>272.4</td>\n",
       "      <td>23.0</td>\n",
       "      <td>No</td>\n",
       "      <td>No</td>\n",
       "      <td>Yes</td>\n",
       "      <td>0.000000</td>\n",
       "      <td>0.0</td>\n",
       "      <td>14982.0</td>\n",
       "      <td>114465.0</td>\n",
       "      <td>0</td>\n",
       "    </tr>\n",
       "    <tr>\n",
       "      <th>7035</th>\n",
       "      <td>Male</td>\n",
       "      <td>No</td>\n",
       "      <td>No</td>\n",
       "      <td>No</td>\n",
       "      <td>38.0</td>\n",
       "      <td>Yes</td>\n",
       "      <td>No</td>\n",
       "      <td>Fiber optic</td>\n",
       "      <td>No</td>\n",
       "      <td>No</td>\n",
       "      <td>...</td>\n",
       "      <td>1051.2</td>\n",
       "      <td>2.0</td>\n",
       "      <td>No</td>\n",
       "      <td>No</td>\n",
       "      <td>Yes</td>\n",
       "      <td>605.700000</td>\n",
       "      <td>0.0</td>\n",
       "      <td>39945.6</td>\n",
       "      <td>118097.4</td>\n",
       "      <td>0</td>\n",
       "    </tr>\n",
       "    <tr>\n",
       "      <th>7036</th>\n",
       "      <td>Male</td>\n",
       "      <td>No</td>\n",
       "      <td>No</td>\n",
       "      <td>No</td>\n",
       "      <td>19.0</td>\n",
       "      <td>Yes</td>\n",
       "      <td>No</td>\n",
       "      <td>Fiber optic</td>\n",
       "      <td>No</td>\n",
       "      <td>No</td>\n",
       "      <td>...</td>\n",
       "      <td>886.5</td>\n",
       "      <td>13.0</td>\n",
       "      <td>No</td>\n",
       "      <td>No</td>\n",
       "      <td>Yes</td>\n",
       "      <td>16.182752</td>\n",
       "      <td>0.0</td>\n",
       "      <td>16843.5</td>\n",
       "      <td>60891.3</td>\n",
       "      <td>0</td>\n",
       "    </tr>\n",
       "    <tr>\n",
       "      <th>7037</th>\n",
       "      <td>Female</td>\n",
       "      <td>No</td>\n",
       "      <td>No</td>\n",
       "      <td>No</td>\n",
       "      <td>12.0</td>\n",
       "      <td>No</td>\n",
       "      <td>No</td>\n",
       "      <td>DSL</td>\n",
       "      <td>No</td>\n",
       "      <td>Yes</td>\n",
       "      <td>...</td>\n",
       "      <td>0.0</td>\n",
       "      <td>24.0</td>\n",
       "      <td>Yes</td>\n",
       "      <td>Yes</td>\n",
       "      <td>Yes</td>\n",
       "      <td>16.182752</td>\n",
       "      <td>0.0</td>\n",
       "      <td>0.0</td>\n",
       "      <td>21086.7</td>\n",
       "      <td>0</td>\n",
       "    </tr>\n",
       "    <tr>\n",
       "      <th>7038</th>\n",
       "      <td>Female</td>\n",
       "      <td>No</td>\n",
       "      <td>No</td>\n",
       "      <td>No</td>\n",
       "      <td>72.0</td>\n",
       "      <td>Yes</td>\n",
       "      <td>No</td>\n",
       "      <td>No</td>\n",
       "      <td>No</td>\n",
       "      <td>No</td>\n",
       "      <td>...</td>\n",
       "      <td>683.1</td>\n",
       "      <td>0.0</td>\n",
       "      <td>No</td>\n",
       "      <td>No</td>\n",
       "      <td>No</td>\n",
       "      <td>579.300000</td>\n",
       "      <td>0.0</td>\n",
       "      <td>49183.2</td>\n",
       "      <td>91185.9</td>\n",
       "      <td>0</td>\n",
       "    </tr>\n",
       "    <tr>\n",
       "      <th>7039</th>\n",
       "      <td>Male</td>\n",
       "      <td>No</td>\n",
       "      <td>Yes</td>\n",
       "      <td>Yes</td>\n",
       "      <td>24.0</td>\n",
       "      <td>Yes</td>\n",
       "      <td>Yes</td>\n",
       "      <td>DSL</td>\n",
       "      <td>Yes</td>\n",
       "      <td>No</td>\n",
       "      <td>...</td>\n",
       "      <td>1081.5</td>\n",
       "      <td>24.0</td>\n",
       "      <td>Yes</td>\n",
       "      <td>Yes</td>\n",
       "      <td>Yes</td>\n",
       "      <td>16.182752</td>\n",
       "      <td>0.0</td>\n",
       "      <td>25956.0</td>\n",
       "      <td>84224.1</td>\n",
       "      <td>0</td>\n",
       "    </tr>\n",
       "    <tr>\n",
       "      <th>7040</th>\n",
       "      <td>Female</td>\n",
       "      <td>No</td>\n",
       "      <td>Yes</td>\n",
       "      <td>Yes</td>\n",
       "      <td>72.0</td>\n",
       "      <td>Yes</td>\n",
       "      <td>Yes</td>\n",
       "      <td>Fiber optic</td>\n",
       "      <td>No</td>\n",
       "      <td>Yes</td>\n",
       "      <td>...</td>\n",
       "      <td>889.8</td>\n",
       "      <td>59.0</td>\n",
       "      <td>Yes</td>\n",
       "      <td>No</td>\n",
       "      <td>Yes</td>\n",
       "      <td>16.182752</td>\n",
       "      <td>0.0</td>\n",
       "      <td>64065.6</td>\n",
       "      <td>283591.2</td>\n",
       "      <td>0</td>\n",
       "    </tr>\n",
       "    <tr>\n",
       "      <th>7041</th>\n",
       "      <td>Female</td>\n",
       "      <td>No</td>\n",
       "      <td>Yes</td>\n",
       "      <td>Yes</td>\n",
       "      <td>11.0</td>\n",
       "      <td>No</td>\n",
       "      <td>No</td>\n",
       "      <td>DSL</td>\n",
       "      <td>Yes</td>\n",
       "      <td>No</td>\n",
       "      <td>...</td>\n",
       "      <td>0.0</td>\n",
       "      <td>17.0</td>\n",
       "      <td>No</td>\n",
       "      <td>No</td>\n",
       "      <td>Yes</td>\n",
       "      <td>16.182752</td>\n",
       "      <td>0.0</td>\n",
       "      <td>0.0</td>\n",
       "      <td>9576.3</td>\n",
       "      <td>0</td>\n",
       "    </tr>\n",
       "    <tr>\n",
       "      <th>7042</th>\n",
       "      <td>Male</td>\n",
       "      <td>No</td>\n",
       "      <td>No</td>\n",
       "      <td>No</td>\n",
       "      <td>66.0</td>\n",
       "      <td>Yes</td>\n",
       "      <td>No</td>\n",
       "      <td>Fiber optic</td>\n",
       "      <td>Yes</td>\n",
       "      <td>No</td>\n",
       "      <td>...</td>\n",
       "      <td>928.8</td>\n",
       "      <td>11.0</td>\n",
       "      <td>Yes</td>\n",
       "      <td>Yes</td>\n",
       "      <td>Yes</td>\n",
       "      <td>0.000000</td>\n",
       "      <td>0.0</td>\n",
       "      <td>61300.8</td>\n",
       "      <td>266635.8</td>\n",
       "      <td>0</td>\n",
       "    </tr>\n",
       "  </tbody>\n",
       "</table>\n",
       "<p>10 rows × 32 columns</p>\n",
       "</div>"
      ],
      "text/plain": [
       "      Gender SeniorCitizen Partner Dependents  Tenure PhoneService  \\\n",
       "7033  Female            No      No         No     2.0          Yes   \n",
       "7034    Male           Yes     Yes         No    55.0          Yes   \n",
       "7035    Male            No      No         No    38.0          Yes   \n",
       "7036    Male            No      No         No    19.0          Yes   \n",
       "7037  Female            No      No         No    12.0           No   \n",
       "7038  Female            No      No         No    72.0          Yes   \n",
       "7039    Male            No     Yes        Yes    24.0          Yes   \n",
       "7040  Female            No     Yes        Yes    72.0          Yes   \n",
       "7041  Female            No     Yes        Yes    11.0           No   \n",
       "7042    Male            No      No         No    66.0          Yes   \n",
       "\n",
       "     MultipleLines InternetService OnlineSecurity OnlineBackup  ...  \\\n",
       "7033            No              No             No           No  ...   \n",
       "7034           Yes             DSL            Yes          Yes  ...   \n",
       "7035            No     Fiber optic             No           No  ...   \n",
       "7036            No     Fiber optic             No           No  ...   \n",
       "7037            No             DSL             No          Yes  ...   \n",
       "7038            No              No             No           No  ...   \n",
       "7039           Yes             DSL            Yes           No  ...   \n",
       "7040           Yes     Fiber optic             No          Yes  ...   \n",
       "7041            No             DSL            Yes           No  ...   \n",
       "7042            No     Fiber optic            Yes           No  ...   \n",
       "\n",
       "     Avg Monthly Long Distance Charges Avg Monthly GB Download  \\\n",
       "7033                             205.5                     0.0   \n",
       "7034                             272.4                    23.0   \n",
       "7035                            1051.2                     2.0   \n",
       "7036                             886.5                    13.0   \n",
       "7037                               0.0                    24.0   \n",
       "7038                             683.1                     0.0   \n",
       "7039                            1081.5                    24.0   \n",
       "7040                             889.8                    59.0   \n",
       "7041                               0.0                    17.0   \n",
       "7042                             928.8                    11.0   \n",
       "\n",
       "     Streaming Music Premium Tech Support Unlimited Data Total Refunds  \\\n",
       "7033              No                   No             No      0.000000   \n",
       "7034              No                   No            Yes      0.000000   \n",
       "7035              No                   No            Yes    605.700000   \n",
       "7036              No                   No            Yes     16.182752   \n",
       "7037             Yes                  Yes            Yes     16.182752   \n",
       "7038              No                   No             No    579.300000   \n",
       "7039             Yes                  Yes            Yes     16.182752   \n",
       "7040             Yes                   No            Yes     16.182752   \n",
       "7041              No                   No            Yes     16.182752   \n",
       "7042             Yes                  Yes            Yes      0.000000   \n",
       "\n",
       "     Total Extra Data Charges  Total Long Distance Charges  Total Revenue  \\\n",
       "7033                      0.0                        411.0         1588.5   \n",
       "7034                      0.0                      14982.0       114465.0   \n",
       "7035                      0.0                      39945.6       118097.4   \n",
       "7036                      0.0                      16843.5        60891.3   \n",
       "7037                      0.0                          0.0        21086.7   \n",
       "7038                      0.0                      49183.2        91185.9   \n",
       "7039                      0.0                      25956.0        84224.1   \n",
       "7040                      0.0                      64065.6       283591.2   \n",
       "7041                      0.0                          0.0         9576.3   \n",
       "7042                      0.0                      61300.8       266635.8   \n",
       "\n",
       "      Churn  \n",
       "7033      0  \n",
       "7034      0  \n",
       "7035      0  \n",
       "7036      0  \n",
       "7037      0  \n",
       "7038      0  \n",
       "7039      0  \n",
       "7040      0  \n",
       "7041      0  \n",
       "7042      0  \n",
       "\n",
       "[10 rows x 32 columns]"
      ]
     },
     "execution_count": 220,
     "metadata": {},
     "output_type": "execute_result"
    }
   ],
   "source": [
    "df.tail(10)"
   ]
  },
  {
   "cell_type": "markdown",
   "id": "eb91a2f6-9d08-4e56-80ef-01dcfe85ff99",
   "metadata": {},
   "source": [
    "Finally the target value has moved to the end."
   ]
  },
  {
   "cell_type": "markdown",
   "id": "3870c396-5d0f-4786-93ad-516c1df27090",
   "metadata": {},
   "source": [
    "# Feature Selection"
   ]
  },
  {
   "cell_type": "code",
   "execution_count": 221,
   "id": "d2e9d090-decb-464a-a22a-e27e8dddb2c0",
   "metadata": {},
   "outputs": [
    {
     "data": {
      "image/png": "[encoded data removed]",
      "text/plain": [
       "<Figure size 2500x1500 with 2 Axes>"
      ]
     },
     "metadata": {},
     "output_type": "display_data"
    }
   ],
   "source": [
    "# Selecting only numerical columns from the DataFrame\n",
    "\n",
    "numeric_df = df.select_dtypes(include=['number'])\n",
    "corr = numeric_df.corr()\n",
    "\n",
    "# Creating a subplot with a specified size for the correlation heatmap\n",
    "fig, ax = plt.subplots(figsize=(25, 15))\n",
    "sns.heatmap(corr, vmax=1, vmin=-1, annot=True, cmap='PRGn', square=True, ax=ax)\n",
    "\n",
    "plt.title('Correlation Matrix') \n",
    "plt.show()\n"
   ]
  },
  {
   "cell_type": "markdown",
   "id": "a3c67e44-f4fa-4492-9cdc-2d93f210f9f9",
   "metadata": {},
   "source": [
    "Highly correlated values is Total Revenue --> Tenure, TotalCharges, Total Long Distance Charges\n",
    "\n",
    "\n"
   ]
  },
  {
   "cell_type": "markdown",
   "id": "81aeabb9-7e5c-45d9-96fb-042531a23240",
   "metadata": {},
   "source": [
    "Married is same as Partner. Under 30 can be known through ages columns.\n"
   ]
  },
  {
   "cell_type": "markdown",
   "id": "2ffcf003-06d6-4cba-96be-5d62a5b1641c",
   "metadata": {},
   "source": [
    "Dropping columns Tenure, TotalCharges, Total Long Distance Charges, Married and Under 30."
   ]
  },
  {
   "cell_type": "code",
   "execution_count": 222,
   "id": "2a7a0327-63e2-4d9e-bb8b-c083008c8fbc",
   "metadata": {},
   "outputs": [],
   "source": [
    "df.drop(['TotalCharges', 'Total Revenue','Under 30', 'Total Refunds', \n",
    "    'Total Extra Data Charges', 'Avg Monthly Long Distance Charges','Married','Total Long Distance Charges','Gender', 'SeniorCitizen'], axis=1, inplace=True)"
   ]
  },
  {
   "cell_type": "markdown",
   "id": "ab8bd9be-6fbf-498f-b499-b7456bbe18f9",
   "metadata": {},
   "source": [
    "### Concatenating the streaming columns into one single column"
   ]
  },
  {
   "cell_type": "code",
   "execution_count": 223,
   "id": "9258cd51-51f3-4bbd-bf9f-0c19e78f2330",
   "metadata": {},
   "outputs": [],
   "source": [
    "streaming_cols = ['StreamingTV', 'StreamingMovies', 'Streaming Music']\n",
    "df['StreamingTV'].replace({'Yes' : 1, 'No' : 0}, inplace=True)\n",
    "df['StreamingMovies'].replace({'Yes' : 1, 'No' : 0}, inplace=True)\n",
    "df['Streaming Music'].replace({'Yes' : 1, 'No' : 0}, inplace=True)\n"
   ]
  },
  {
   "cell_type": "markdown",
   "id": "3ab7b3ef-60b9-4c74-872f-c06e0e555708",
   "metadata": {},
   "source": [
    "Checking if the customer have any streaming services "
   ]
  },
  {
   "cell_type": "code",
   "execution_count": 224,
   "id": "f10e4ee5-3d2c-4882-9d90-d0de37369fca",
   "metadata": {},
   "outputs": [
    {
     "data": {
      "text/plain": [
       "1    3594\n",
       "0    3438\n",
       "Name: count, dtype: int64"
      ]
     },
     "execution_count": 224,
     "metadata": {},
     "output_type": "execute_result"
    }
   ],
   "source": [
    "temp_col = (df['StreamingTV'] | df['StreamingMovies'] | df['Streaming Music'])\n",
    "temp_col.value_counts()"
   ]
  },
  {
   "cell_type": "code",
   "execution_count": 225,
   "id": "673a4d74-84ee-48ae-9a8d-f6214a196a5c",
   "metadata": {},
   "outputs": [
    {
     "data": {
      "text/html": [
       "<div>\n",
       "<style scoped>\n",
       "    .dataframe tbody tr th:only-of-type {\n",
       "        vertical-align: middle;\n",
       "    }\n",
       "\n",
       "    .dataframe tbody tr th {\n",
       "        vertical-align: top;\n",
       "    }\n",
       "\n",
       "    .dataframe thead th {\n",
       "        text-align: right;\n",
       "    }\n",
       "</style>\n",
       "<table border=\"1\" class=\"dataframe\">\n",
       "  <thead>\n",
       "    <tr style=\"text-align: right;\">\n",
       "      <th></th>\n",
       "      <th>Partner</th>\n",
       "      <th>Dependents</th>\n",
       "      <th>Tenure</th>\n",
       "      <th>PhoneService</th>\n",
       "      <th>MultipleLines</th>\n",
       "      <th>InternetService</th>\n",
       "      <th>OnlineSecurity</th>\n",
       "      <th>OnlineBackup</th>\n",
       "      <th>DeviceProtection</th>\n",
       "      <th>TechSupport</th>\n",
       "      <th>Contract</th>\n",
       "      <th>PaperlessBilling</th>\n",
       "      <th>PaymentMethod</th>\n",
       "      <th>MonthlyCharges</th>\n",
       "      <th>Age</th>\n",
       "      <th>Avg Monthly GB Download</th>\n",
       "      <th>Premium Tech Support</th>\n",
       "      <th>Unlimited Data</th>\n",
       "      <th>Churn</th>\n",
       "    </tr>\n",
       "  </thead>\n",
       "  <tbody>\n",
       "    <tr>\n",
       "      <th>0</th>\n",
       "      <td>No</td>\n",
       "      <td>No</td>\n",
       "      <td>2.0</td>\n",
       "      <td>Yes</td>\n",
       "      <td>No</td>\n",
       "      <td>DSL</td>\n",
       "      <td>Yes</td>\n",
       "      <td>Yes</td>\n",
       "      <td>No</td>\n",
       "      <td>No</td>\n",
       "      <td>Month-to-month</td>\n",
       "      <td>Yes</td>\n",
       "      <td>eSewa</td>\n",
       "      <td>1615.5</td>\n",
       "      <td>37</td>\n",
       "      <td>21.0</td>\n",
       "      <td>No</td>\n",
       "      <td>Yes</td>\n",
       "      <td>1</td>\n",
       "    </tr>\n",
       "    <tr>\n",
       "      <th>1</th>\n",
       "      <td>No</td>\n",
       "      <td>No</td>\n",
       "      <td>2.0</td>\n",
       "      <td>Yes</td>\n",
       "      <td>No</td>\n",
       "      <td>Fiber optic</td>\n",
       "      <td>No</td>\n",
       "      <td>No</td>\n",
       "      <td>No</td>\n",
       "      <td>No</td>\n",
       "      <td>Month-to-month</td>\n",
       "      <td>Yes</td>\n",
       "      <td>Cash</td>\n",
       "      <td>2121.0</td>\n",
       "      <td>19</td>\n",
       "      <td>51.0</td>\n",
       "      <td>No</td>\n",
       "      <td>Yes</td>\n",
       "      <td>1</td>\n",
       "    </tr>\n",
       "    <tr>\n",
       "      <th>2</th>\n",
       "      <td>No</td>\n",
       "      <td>No</td>\n",
       "      <td>8.0</td>\n",
       "      <td>Yes</td>\n",
       "      <td>Yes</td>\n",
       "      <td>Fiber optic</td>\n",
       "      <td>No</td>\n",
       "      <td>No</td>\n",
       "      <td>Yes</td>\n",
       "      <td>No</td>\n",
       "      <td>Month-to-month</td>\n",
       "      <td>Yes</td>\n",
       "      <td>Cash</td>\n",
       "      <td>2989.5</td>\n",
       "      <td>31</td>\n",
       "      <td>26.0</td>\n",
       "      <td>No</td>\n",
       "      <td>Yes</td>\n",
       "      <td>1</td>\n",
       "    </tr>\n",
       "    <tr>\n",
       "      <th>3</th>\n",
       "      <td>Yes</td>\n",
       "      <td>No</td>\n",
       "      <td>28.0</td>\n",
       "      <td>Yes</td>\n",
       "      <td>Yes</td>\n",
       "      <td>Fiber optic</td>\n",
       "      <td>No</td>\n",
       "      <td>No</td>\n",
       "      <td>Yes</td>\n",
       "      <td>Yes</td>\n",
       "      <td>Month-to-month</td>\n",
       "      <td>Yes</td>\n",
       "      <td>Cash</td>\n",
       "      <td>3144.0</td>\n",
       "      <td>23</td>\n",
       "      <td>47.0</td>\n",
       "      <td>Yes</td>\n",
       "      <td>Yes</td>\n",
       "      <td>1</td>\n",
       "    </tr>\n",
       "    <tr>\n",
       "      <th>4</th>\n",
       "      <td>No</td>\n",
       "      <td>No</td>\n",
       "      <td>49.0</td>\n",
       "      <td>Yes</td>\n",
       "      <td>Yes</td>\n",
       "      <td>Fiber optic</td>\n",
       "      <td>No</td>\n",
       "      <td>Yes</td>\n",
       "      <td>Yes</td>\n",
       "      <td>No</td>\n",
       "      <td>Month-to-month</td>\n",
       "      <td>Yes</td>\n",
       "      <td>Mobile Banking</td>\n",
       "      <td>3111.0</td>\n",
       "      <td>38</td>\n",
       "      <td>11.0</td>\n",
       "      <td>No</td>\n",
       "      <td>Yes</td>\n",
       "      <td>1</td>\n",
       "    </tr>\n",
       "    <tr>\n",
       "      <th>...</th>\n",
       "      <td>...</td>\n",
       "      <td>...</td>\n",
       "      <td>...</td>\n",
       "      <td>...</td>\n",
       "      <td>...</td>\n",
       "      <td>...</td>\n",
       "      <td>...</td>\n",
       "      <td>...</td>\n",
       "      <td>...</td>\n",
       "      <td>...</td>\n",
       "      <td>...</td>\n",
       "      <td>...</td>\n",
       "      <td>...</td>\n",
       "      <td>...</td>\n",
       "      <td>...</td>\n",
       "      <td>...</td>\n",
       "      <td>...</td>\n",
       "      <td>...</td>\n",
       "      <td>...</td>\n",
       "    </tr>\n",
       "    <tr>\n",
       "      <th>7038</th>\n",
       "      <td>No</td>\n",
       "      <td>No</td>\n",
       "      <td>72.0</td>\n",
       "      <td>Yes</td>\n",
       "      <td>No</td>\n",
       "      <td>No</td>\n",
       "      <td>No</td>\n",
       "      <td>No</td>\n",
       "      <td>No</td>\n",
       "      <td>No</td>\n",
       "      <td>Two year</td>\n",
       "      <td>Yes</td>\n",
       "      <td>Mobile Banking</td>\n",
       "      <td>634.5</td>\n",
       "      <td>30</td>\n",
       "      <td>0.0</td>\n",
       "      <td>No</td>\n",
       "      <td>No</td>\n",
       "      <td>0</td>\n",
       "    </tr>\n",
       "    <tr>\n",
       "      <th>7039</th>\n",
       "      <td>Yes</td>\n",
       "      <td>Yes</td>\n",
       "      <td>24.0</td>\n",
       "      <td>Yes</td>\n",
       "      <td>Yes</td>\n",
       "      <td>DSL</td>\n",
       "      <td>Yes</td>\n",
       "      <td>No</td>\n",
       "      <td>Yes</td>\n",
       "      <td>Yes</td>\n",
       "      <td>One year</td>\n",
       "      <td>Yes</td>\n",
       "      <td>eSewa</td>\n",
       "      <td>2544.0</td>\n",
       "      <td>38</td>\n",
       "      <td>24.0</td>\n",
       "      <td>Yes</td>\n",
       "      <td>Yes</td>\n",
       "      <td>0</td>\n",
       "    </tr>\n",
       "    <tr>\n",
       "      <th>7040</th>\n",
       "      <td>Yes</td>\n",
       "      <td>Yes</td>\n",
       "      <td>72.0</td>\n",
       "      <td>Yes</td>\n",
       "      <td>Yes</td>\n",
       "      <td>Fiber optic</td>\n",
       "      <td>No</td>\n",
       "      <td>Yes</td>\n",
       "      <td>Yes</td>\n",
       "      <td>No</td>\n",
       "      <td>One year</td>\n",
       "      <td>Yes</td>\n",
       "      <td>Credit card (automatic)</td>\n",
       "      <td>3096.0</td>\n",
       "      <td>30</td>\n",
       "      <td>59.0</td>\n",
       "      <td>No</td>\n",
       "      <td>Yes</td>\n",
       "      <td>0</td>\n",
       "    </tr>\n",
       "    <tr>\n",
       "      <th>7041</th>\n",
       "      <td>Yes</td>\n",
       "      <td>Yes</td>\n",
       "      <td>11.0</td>\n",
       "      <td>No</td>\n",
       "      <td>No</td>\n",
       "      <td>DSL</td>\n",
       "      <td>Yes</td>\n",
       "      <td>No</td>\n",
       "      <td>No</td>\n",
       "      <td>No</td>\n",
       "      <td>Month-to-month</td>\n",
       "      <td>Yes</td>\n",
       "      <td>Cash</td>\n",
       "      <td>888.0</td>\n",
       "      <td>32</td>\n",
       "      <td>17.0</td>\n",
       "      <td>No</td>\n",
       "      <td>Yes</td>\n",
       "      <td>0</td>\n",
       "    </tr>\n",
       "    <tr>\n",
       "      <th>7042</th>\n",
       "      <td>No</td>\n",
       "      <td>No</td>\n",
       "      <td>66.0</td>\n",
       "      <td>Yes</td>\n",
       "      <td>No</td>\n",
       "      <td>Fiber optic</td>\n",
       "      <td>Yes</td>\n",
       "      <td>No</td>\n",
       "      <td>Yes</td>\n",
       "      <td>Yes</td>\n",
       "      <td>Two year</td>\n",
       "      <td>Yes</td>\n",
       "      <td>Mobile Banking</td>\n",
       "      <td>3169.5</td>\n",
       "      <td>44</td>\n",
       "      <td>11.0</td>\n",
       "      <td>Yes</td>\n",
       "      <td>Yes</td>\n",
       "      <td>0</td>\n",
       "    </tr>\n",
       "  </tbody>\n",
       "</table>\n",
       "<p>7032 rows × 19 columns</p>\n",
       "</div>"
      ],
      "text/plain": [
       "     Partner Dependents  Tenure PhoneService MultipleLines InternetService  \\\n",
       "0         No         No     2.0          Yes            No             DSL   \n",
       "1         No         No     2.0          Yes            No     Fiber optic   \n",
       "2         No         No     8.0          Yes           Yes     Fiber optic   \n",
       "3        Yes         No    28.0          Yes           Yes     Fiber optic   \n",
       "4         No         No    49.0          Yes           Yes     Fiber optic   \n",
       "...      ...        ...     ...          ...           ...             ...   \n",
       "7038      No         No    72.0          Yes            No              No   \n",
       "7039     Yes        Yes    24.0          Yes           Yes             DSL   \n",
       "7040     Yes        Yes    72.0          Yes           Yes     Fiber optic   \n",
       "7041     Yes        Yes    11.0           No            No             DSL   \n",
       "7042      No         No    66.0          Yes            No     Fiber optic   \n",
       "\n",
       "     OnlineSecurity OnlineBackup DeviceProtection TechSupport        Contract  \\\n",
       "0               Yes          Yes               No          No  Month-to-month   \n",
       "1                No           No               No          No  Month-to-month   \n",
       "2                No           No              Yes          No  Month-to-month   \n",
       "3                No           No              Yes         Yes  Month-to-month   \n",
       "4                No          Yes              Yes          No  Month-to-month   \n",
       "...             ...          ...              ...         ...             ...   \n",
       "7038             No           No               No          No        Two year   \n",
       "7039            Yes           No              Yes         Yes        One year   \n",
       "7040             No          Yes              Yes          No        One year   \n",
       "7041            Yes           No               No          No  Month-to-month   \n",
       "7042            Yes           No              Yes         Yes        Two year   \n",
       "\n",
       "     PaperlessBilling            PaymentMethod  MonthlyCharges  Age  \\\n",
       "0                 Yes                    eSewa          1615.5   37   \n",
       "1                 Yes                     Cash          2121.0   19   \n",
       "2                 Yes                     Cash          2989.5   31   \n",
       "3                 Yes                     Cash          3144.0   23   \n",
       "4                 Yes           Mobile Banking          3111.0   38   \n",
       "...               ...                      ...             ...  ...   \n",
       "7038              Yes           Mobile Banking           634.5   30   \n",
       "7039              Yes                    eSewa          2544.0   38   \n",
       "7040              Yes  Credit card (automatic)          3096.0   30   \n",
       "7041              Yes                     Cash           888.0   32   \n",
       "7042              Yes           Mobile Banking          3169.5   44   \n",
       "\n",
       "      Avg Monthly GB Download Premium Tech Support Unlimited Data  Churn  \n",
       "0                        21.0                   No            Yes      1  \n",
       "1                        51.0                   No            Yes      1  \n",
       "2                        26.0                   No            Yes      1  \n",
       "3                        47.0                  Yes            Yes      1  \n",
       "4                        11.0                   No            Yes      1  \n",
       "...                       ...                  ...            ...    ...  \n",
       "7038                      0.0                   No             No      0  \n",
       "7039                     24.0                  Yes            Yes      0  \n",
       "7040                     59.0                   No            Yes      0  \n",
       "7041                     17.0                   No            Yes      0  \n",
       "7042                     11.0                  Yes            Yes      0  \n",
       "\n",
       "[7032 rows x 19 columns]"
      ]
     },
     "execution_count": 225,
     "metadata": {},
     "output_type": "execute_result"
    }
   ],
   "source": [
    "# Dropping the streaming columns \n",
    "df.drop(streaming_cols, axis=1, inplace=True)\n",
    "df\n"
   ]
  },
  {
   "cell_type": "code",
   "execution_count": 226,
   "id": "d1f336b6-626f-4f26-a131-73f43fd80cd3",
   "metadata": {},
   "outputs": [
    {
     "data": {
      "text/html": [
       "<div>\n",
       "<style scoped>\n",
       "    .dataframe tbody tr th:only-of-type {\n",
       "        vertical-align: middle;\n",
       "    }\n",
       "\n",
       "    .dataframe tbody tr th {\n",
       "        vertical-align: top;\n",
       "    }\n",
       "\n",
       "    .dataframe thead th {\n",
       "        text-align: right;\n",
       "    }\n",
       "</style>\n",
       "<table border=\"1\" class=\"dataframe\">\n",
       "  <thead>\n",
       "    <tr style=\"text-align: right;\">\n",
       "      <th></th>\n",
       "      <th>Partner</th>\n",
       "      <th>Dependents</th>\n",
       "      <th>Tenure</th>\n",
       "      <th>PhoneService</th>\n",
       "      <th>MultipleLines</th>\n",
       "      <th>InternetService</th>\n",
       "      <th>StreamingServices</th>\n",
       "      <th>OnlineSecurity</th>\n",
       "      <th>OnlineBackup</th>\n",
       "      <th>DeviceProtection</th>\n",
       "      <th>TechSupport</th>\n",
       "      <th>Contract</th>\n",
       "      <th>PaperlessBilling</th>\n",
       "      <th>PaymentMethod</th>\n",
       "      <th>MonthlyCharges</th>\n",
       "      <th>Age</th>\n",
       "      <th>Avg Monthly GB Download</th>\n",
       "      <th>Premium Tech Support</th>\n",
       "      <th>Unlimited Data</th>\n",
       "      <th>Churn</th>\n",
       "    </tr>\n",
       "  </thead>\n",
       "  <tbody>\n",
       "    <tr>\n",
       "      <th>0</th>\n",
       "      <td>No</td>\n",
       "      <td>No</td>\n",
       "      <td>2.0</td>\n",
       "      <td>Yes</td>\n",
       "      <td>No</td>\n",
       "      <td>DSL</td>\n",
       "      <td>0</td>\n",
       "      <td>Yes</td>\n",
       "      <td>Yes</td>\n",
       "      <td>No</td>\n",
       "      <td>No</td>\n",
       "      <td>Month-to-month</td>\n",
       "      <td>Yes</td>\n",
       "      <td>eSewa</td>\n",
       "      <td>1615.5</td>\n",
       "      <td>37</td>\n",
       "      <td>21.0</td>\n",
       "      <td>No</td>\n",
       "      <td>Yes</td>\n",
       "      <td>1</td>\n",
       "    </tr>\n",
       "    <tr>\n",
       "      <th>1</th>\n",
       "      <td>No</td>\n",
       "      <td>No</td>\n",
       "      <td>2.0</td>\n",
       "      <td>Yes</td>\n",
       "      <td>No</td>\n",
       "      <td>Fiber optic</td>\n",
       "      <td>0</td>\n",
       "      <td>No</td>\n",
       "      <td>No</td>\n",
       "      <td>No</td>\n",
       "      <td>No</td>\n",
       "      <td>Month-to-month</td>\n",
       "      <td>Yes</td>\n",
       "      <td>Cash</td>\n",
       "      <td>2121.0</td>\n",
       "      <td>19</td>\n",
       "      <td>51.0</td>\n",
       "      <td>No</td>\n",
       "      <td>Yes</td>\n",
       "      <td>1</td>\n",
       "    </tr>\n",
       "    <tr>\n",
       "      <th>2</th>\n",
       "      <td>No</td>\n",
       "      <td>No</td>\n",
       "      <td>8.0</td>\n",
       "      <td>Yes</td>\n",
       "      <td>Yes</td>\n",
       "      <td>Fiber optic</td>\n",
       "      <td>1</td>\n",
       "      <td>No</td>\n",
       "      <td>No</td>\n",
       "      <td>Yes</td>\n",
       "      <td>No</td>\n",
       "      <td>Month-to-month</td>\n",
       "      <td>Yes</td>\n",
       "      <td>Cash</td>\n",
       "      <td>2989.5</td>\n",
       "      <td>31</td>\n",
       "      <td>26.0</td>\n",
       "      <td>No</td>\n",
       "      <td>Yes</td>\n",
       "      <td>1</td>\n",
       "    </tr>\n",
       "    <tr>\n",
       "      <th>3</th>\n",
       "      <td>Yes</td>\n",
       "      <td>No</td>\n",
       "      <td>28.0</td>\n",
       "      <td>Yes</td>\n",
       "      <td>Yes</td>\n",
       "      <td>Fiber optic</td>\n",
       "      <td>1</td>\n",
       "      <td>No</td>\n",
       "      <td>No</td>\n",
       "      <td>Yes</td>\n",
       "      <td>Yes</td>\n",
       "      <td>Month-to-month</td>\n",
       "      <td>Yes</td>\n",
       "      <td>Cash</td>\n",
       "      <td>3144.0</td>\n",
       "      <td>23</td>\n",
       "      <td>47.0</td>\n",
       "      <td>Yes</td>\n",
       "      <td>Yes</td>\n",
       "      <td>1</td>\n",
       "    </tr>\n",
       "    <tr>\n",
       "      <th>4</th>\n",
       "      <td>No</td>\n",
       "      <td>No</td>\n",
       "      <td>49.0</td>\n",
       "      <td>Yes</td>\n",
       "      <td>Yes</td>\n",
       "      <td>Fiber optic</td>\n",
       "      <td>1</td>\n",
       "      <td>No</td>\n",
       "      <td>Yes</td>\n",
       "      <td>Yes</td>\n",
       "      <td>No</td>\n",
       "      <td>Month-to-month</td>\n",
       "      <td>Yes</td>\n",
       "      <td>Mobile Banking</td>\n",
       "      <td>3111.0</td>\n",
       "      <td>38</td>\n",
       "      <td>11.0</td>\n",
       "      <td>No</td>\n",
       "      <td>Yes</td>\n",
       "      <td>1</td>\n",
       "    </tr>\n",
       "    <tr>\n",
       "      <th>...</th>\n",
       "      <td>...</td>\n",
       "      <td>...</td>\n",
       "      <td>...</td>\n",
       "      <td>...</td>\n",
       "      <td>...</td>\n",
       "      <td>...</td>\n",
       "      <td>...</td>\n",
       "      <td>...</td>\n",
       "      <td>...</td>\n",
       "      <td>...</td>\n",
       "      <td>...</td>\n",
       "      <td>...</td>\n",
       "      <td>...</td>\n",
       "      <td>...</td>\n",
       "      <td>...</td>\n",
       "      <td>...</td>\n",
       "      <td>...</td>\n",
       "      <td>...</td>\n",
       "      <td>...</td>\n",
       "      <td>...</td>\n",
       "    </tr>\n",
       "    <tr>\n",
       "      <th>7038</th>\n",
       "      <td>No</td>\n",
       "      <td>No</td>\n",
       "      <td>72.0</td>\n",
       "      <td>Yes</td>\n",
       "      <td>No</td>\n",
       "      <td>No</td>\n",
       "      <td>0</td>\n",
       "      <td>No</td>\n",
       "      <td>No</td>\n",
       "      <td>No</td>\n",
       "      <td>No</td>\n",
       "      <td>Two year</td>\n",
       "      <td>Yes</td>\n",
       "      <td>Mobile Banking</td>\n",
       "      <td>634.5</td>\n",
       "      <td>30</td>\n",
       "      <td>0.0</td>\n",
       "      <td>No</td>\n",
       "      <td>No</td>\n",
       "      <td>0</td>\n",
       "    </tr>\n",
       "    <tr>\n",
       "      <th>7039</th>\n",
       "      <td>Yes</td>\n",
       "      <td>Yes</td>\n",
       "      <td>24.0</td>\n",
       "      <td>Yes</td>\n",
       "      <td>Yes</td>\n",
       "      <td>DSL</td>\n",
       "      <td>1</td>\n",
       "      <td>Yes</td>\n",
       "      <td>No</td>\n",
       "      <td>Yes</td>\n",
       "      <td>Yes</td>\n",
       "      <td>One year</td>\n",
       "      <td>Yes</td>\n",
       "      <td>eSewa</td>\n",
       "      <td>2544.0</td>\n",
       "      <td>38</td>\n",
       "      <td>24.0</td>\n",
       "      <td>Yes</td>\n",
       "      <td>Yes</td>\n",
       "      <td>0</td>\n",
       "    </tr>\n",
       "    <tr>\n",
       "      <th>7040</th>\n",
       "      <td>Yes</td>\n",
       "      <td>Yes</td>\n",
       "      <td>72.0</td>\n",
       "      <td>Yes</td>\n",
       "      <td>Yes</td>\n",
       "      <td>Fiber optic</td>\n",
       "      <td>1</td>\n",
       "      <td>No</td>\n",
       "      <td>Yes</td>\n",
       "      <td>Yes</td>\n",
       "      <td>No</td>\n",
       "      <td>One year</td>\n",
       "      <td>Yes</td>\n",
       "      <td>Credit card (automatic)</td>\n",
       "      <td>3096.0</td>\n",
       "      <td>30</td>\n",
       "      <td>59.0</td>\n",
       "      <td>No</td>\n",
       "      <td>Yes</td>\n",
       "      <td>0</td>\n",
       "    </tr>\n",
       "    <tr>\n",
       "      <th>7041</th>\n",
       "      <td>Yes</td>\n",
       "      <td>Yes</td>\n",
       "      <td>11.0</td>\n",
       "      <td>No</td>\n",
       "      <td>No</td>\n",
       "      <td>DSL</td>\n",
       "      <td>0</td>\n",
       "      <td>Yes</td>\n",
       "      <td>No</td>\n",
       "      <td>No</td>\n",
       "      <td>No</td>\n",
       "      <td>Month-to-month</td>\n",
       "      <td>Yes</td>\n",
       "      <td>Cash</td>\n",
       "      <td>888.0</td>\n",
       "      <td>32</td>\n",
       "      <td>17.0</td>\n",
       "      <td>No</td>\n",
       "      <td>Yes</td>\n",
       "      <td>0</td>\n",
       "    </tr>\n",
       "    <tr>\n",
       "      <th>7042</th>\n",
       "      <td>No</td>\n",
       "      <td>No</td>\n",
       "      <td>66.0</td>\n",
       "      <td>Yes</td>\n",
       "      <td>No</td>\n",
       "      <td>Fiber optic</td>\n",
       "      <td>1</td>\n",
       "      <td>Yes</td>\n",
       "      <td>No</td>\n",
       "      <td>Yes</td>\n",
       "      <td>Yes</td>\n",
       "      <td>Two year</td>\n",
       "      <td>Yes</td>\n",
       "      <td>Mobile Banking</td>\n",
       "      <td>3169.5</td>\n",
       "      <td>44</td>\n",
       "      <td>11.0</td>\n",
       "      <td>Yes</td>\n",
       "      <td>Yes</td>\n",
       "      <td>0</td>\n",
       "    </tr>\n",
       "  </tbody>\n",
       "</table>\n",
       "<p>7032 rows × 20 columns</p>\n",
       "</div>"
      ],
      "text/plain": [
       "     Partner Dependents  Tenure PhoneService MultipleLines InternetService  \\\n",
       "0         No         No     2.0          Yes            No             DSL   \n",
       "1         No         No     2.0          Yes            No     Fiber optic   \n",
       "2         No         No     8.0          Yes           Yes     Fiber optic   \n",
       "3        Yes         No    28.0          Yes           Yes     Fiber optic   \n",
       "4         No         No    49.0          Yes           Yes     Fiber optic   \n",
       "...      ...        ...     ...          ...           ...             ...   \n",
       "7038      No         No    72.0          Yes            No              No   \n",
       "7039     Yes        Yes    24.0          Yes           Yes             DSL   \n",
       "7040     Yes        Yes    72.0          Yes           Yes     Fiber optic   \n",
       "7041     Yes        Yes    11.0           No            No             DSL   \n",
       "7042      No         No    66.0          Yes            No     Fiber optic   \n",
       "\n",
       "      StreamingServices OnlineSecurity OnlineBackup DeviceProtection  \\\n",
       "0                     0            Yes          Yes               No   \n",
       "1                     0             No           No               No   \n",
       "2                     1             No           No              Yes   \n",
       "3                     1             No           No              Yes   \n",
       "4                     1             No          Yes              Yes   \n",
       "...                 ...            ...          ...              ...   \n",
       "7038                  0             No           No               No   \n",
       "7039                  1            Yes           No              Yes   \n",
       "7040                  1             No          Yes              Yes   \n",
       "7041                  0            Yes           No               No   \n",
       "7042                  1            Yes           No              Yes   \n",
       "\n",
       "     TechSupport        Contract PaperlessBilling            PaymentMethod  \\\n",
       "0             No  Month-to-month              Yes                    eSewa   \n",
       "1             No  Month-to-month              Yes                     Cash   \n",
       "2             No  Month-to-month              Yes                     Cash   \n",
       "3            Yes  Month-to-month              Yes                     Cash   \n",
       "4             No  Month-to-month              Yes           Mobile Banking   \n",
       "...          ...             ...              ...                      ...   \n",
       "7038          No        Two year              Yes           Mobile Banking   \n",
       "7039         Yes        One year              Yes                    eSewa   \n",
       "7040          No        One year              Yes  Credit card (automatic)   \n",
       "7041          No  Month-to-month              Yes                     Cash   \n",
       "7042         Yes        Two year              Yes           Mobile Banking   \n",
       "\n",
       "      MonthlyCharges  Age  Avg Monthly GB Download Premium Tech Support  \\\n",
       "0             1615.5   37                     21.0                   No   \n",
       "1             2121.0   19                     51.0                   No   \n",
       "2             2989.5   31                     26.0                   No   \n",
       "3             3144.0   23                     47.0                  Yes   \n",
       "4             3111.0   38                     11.0                   No   \n",
       "...              ...  ...                      ...                  ...   \n",
       "7038           634.5   30                      0.0                   No   \n",
       "7039          2544.0   38                     24.0                  Yes   \n",
       "7040          3096.0   30                     59.0                   No   \n",
       "7041           888.0   32                     17.0                   No   \n",
       "7042          3169.5   44                     11.0                  Yes   \n",
       "\n",
       "     Unlimited Data  Churn  \n",
       "0               Yes      1  \n",
       "1               Yes      1  \n",
       "2               Yes      1  \n",
       "3               Yes      1  \n",
       "4               Yes      1  \n",
       "...             ...    ...  \n",
       "7038             No      0  \n",
       "7039            Yes      0  \n",
       "7040            Yes      0  \n",
       "7041            Yes      0  \n",
       "7042            Yes      0  \n",
       "\n",
       "[7032 rows x 20 columns]"
      ]
     },
     "execution_count": 226,
     "metadata": {},
     "output_type": "execute_result"
    }
   ],
   "source": [
    "df.insert(loc=6, column='StreamingServices', value=temp_col)\n",
    "df"
   ]
  },
  {
   "cell_type": "markdown",
   "id": "e358a4d6-0b85-4550-b440-2b85de1879f0",
   "metadata": {},
   "source": [
    "### Save the datasets "
   ]
  },
  {
   "cell_type": "code",
   "execution_count": 227,
   "id": "9b46c330-7dec-4ab5-93af-6946d0781e3e",
   "metadata": {},
   "outputs": [],
   "source": [
    "# Save the model datasets in the desktop\n",
    "\n",
    "df.to_csv('Modelling_Dataset.csv', index=False)"
   ]
  },
  {
   "cell_type": "markdown",
   "id": "eafa776e-b960-4487-8712-471067d2e7da",
   "metadata": {},
   "source": [
    "# Data Modelling"
   ]
  },
  {
   "cell_type": "markdown",
   "id": "82facce5-f464-442a-b702-69f7c08b9332",
   "metadata": {},
   "source": [
    "### Dividing target and independent variable"
   ]
  },
  {
   "cell_type": "code",
   "execution_count": 228,
   "id": "201d2473-5f39-41a5-bf3a-ff82a4541bca",
   "metadata": {},
   "outputs": [
    {
     "data": {
      "text/plain": [
       "Index(['Partner', 'Dependents', 'Tenure', 'PhoneService', 'MultipleLines',\n",
       "       'InternetService', 'StreamingServices', 'OnlineSecurity',\n",
       "       'OnlineBackup', 'DeviceProtection', 'TechSupport', 'Contract',\n",
       "       'PaperlessBilling', 'PaymentMethod', 'MonthlyCharges', 'Age',\n",
       "       'Avg Monthly GB Download', 'Premium Tech Support', 'Unlimited Data',\n",
       "       'Churn'],\n",
       "      dtype='object')"
      ]
     },
     "execution_count": 228,
     "metadata": {},
     "output_type": "execute_result"
    }
   ],
   "source": [
    "df.columns"
   ]
  },
  {
   "cell_type": "code",
   "execution_count": 229,
   "id": "b6a0ab56-97db-4a28-8a4c-caa32d10683a",
   "metadata": {},
   "outputs": [
    {
     "data": {
      "text/plain": [
       "(7032, 20)"
      ]
     },
     "execution_count": 229,
     "metadata": {},
     "output_type": "execute_result"
    }
   ],
   "source": [
    "# View the shape of dataframe as x and y axis\n",
    "\n",
    "df.shape"
   ]
  },
  {
   "cell_type": "markdown",
   "id": "b4ceda90-9ffa-4d5e-8330-a29283660f27",
   "metadata": {},
   "source": [
    "X as independent variable and Y as target variable."
   ]
  },
  {
   "cell_type": "code",
   "execution_count": 230,
   "id": "8ca1a552-3c4a-4d9d-80a1-e7b4757fe59d",
   "metadata": {},
   "outputs": [],
   "source": [
    "X = df.drop('Churn', axis = 1)\n",
    "y = df.Churn"
   ]
  },
  {
   "cell_type": "markdown",
   "id": "5d8e9ace-619e-44ca-bdf9-327573054a1f",
   "metadata": {},
   "source": [
    "### Converting categorical columns into ordinal and one hot encoding "
   ]
  },
  {
   "cell_type": "code",
   "execution_count": 231,
   "id": "ac5c87ff-d94d-48e7-88e8-b984a0b9676f",
   "metadata": {},
   "outputs": [],
   "source": [
    "is_ordinal, is_onehot = list(), list()\n",
    "\n",
    "# Extracting lists of categorical and numerical column names from the DataFrame\n",
    "\n",
    "categorical_column = X.select_dtypes(include = 'object').columns.tolist()\n",
    "numerical_column = X.select_dtypes(exclude = 'object').columns.tolist()\n",
    "\n",
    "# Iterating through each categorical column to determine if it's ordinal or one-hot encoded\n",
    "\n",
    "for col in categorical_column:\n",
    "    unique_values = df[col].nunique()\n",
    "    if unique_values == 2:\n",
    "        is_ordinal.append(col)\n",
    "    else:\n",
    "        is_onehot.append(col)\n"
   ]
  },
  {
   "cell_type": "code",
   "execution_count": 232,
   "id": "db3d935b-bcf4-48c8-9fb4-ecc6908b7edf",
   "metadata": {},
   "outputs": [
    {
     "data": {
      "text/plain": [
       "['Partner',\n",
       " 'Dependents',\n",
       " 'PhoneService',\n",
       " 'MultipleLines',\n",
       " 'OnlineSecurity',\n",
       " 'OnlineBackup',\n",
       " 'DeviceProtection',\n",
       " 'TechSupport',\n",
       " 'PaperlessBilling',\n",
       " 'Premium Tech Support',\n",
       " 'Unlimited Data']"
      ]
     },
     "execution_count": 232,
     "metadata": {},
     "output_type": "execute_result"
    }
   ],
   "source": [
    "is_ordinal"
   ]
  },
  {
   "cell_type": "code",
   "execution_count": 233,
   "id": "9087c8a4-18df-4e90-b329-34e95936f1d6",
   "metadata": {},
   "outputs": [
    {
     "data": {
      "text/plain": [
       "['InternetService', 'Contract', 'PaymentMethod']"
      ]
     },
     "execution_count": 233,
     "metadata": {},
     "output_type": "execute_result"
    }
   ],
   "source": [
    "is_onehot"
   ]
  },
  {
   "cell_type": "code",
   "execution_count": 234,
   "id": "c2147956-2915-41ac-84f4-96f4271cb60f",
   "metadata": {},
   "outputs": [
    {
     "data": {
      "text/plain": [
       "['Tenure',\n",
       " 'StreamingServices',\n",
       " 'MonthlyCharges',\n",
       " 'Age',\n",
       " 'Avg Monthly GB Download']"
      ]
     },
     "execution_count": 234,
     "metadata": {},
     "output_type": "execute_result"
    }
   ],
   "source": [
    "numerical_column"
   ]
  },
  {
   "cell_type": "code",
   "execution_count": 235,
   "id": "c30f947c-35ed-48fb-a091-32bbc63ef47f",
   "metadata": {},
   "outputs": [],
   "source": [
    "total_columns_check= len(is_ordinal)+ len(is_onehot)+ len(numerical_column)"
   ]
  },
  {
   "cell_type": "code",
   "execution_count": 236,
   "id": "de2b9728-ce87-4b76-b98e-f248db359929",
   "metadata": {},
   "outputs": [
    {
     "data": {
      "text/plain": [
       "19"
      ]
     },
     "execution_count": 236,
     "metadata": {},
     "output_type": "execute_result"
    }
   ],
   "source": [
    "total_columns_check"
   ]
  },
  {
   "cell_type": "markdown",
   "id": "00f88df3-30ed-4474-ba52-5dafe3f6a4b9",
   "metadata": {},
   "source": [
    "### Pipeline Building!"
   ]
  },
  {
   "cell_type": "code",
   "execution_count": 237,
   "id": "8e46ee19-ff1e-4aed-85fb-1f2f04225f8c",
   "metadata": {},
   "outputs": [],
   "source": [
    "# Import all the scikit learn library for pipeline building\n",
    "\n",
    "from sklearn.pipeline import Pipeline\n",
    "from sklearn.compose import ColumnTransformer\n",
    "from sklearn.preprocessing import OneHotEncoder, OrdinalEncoder, MinMaxScaler\n",
    "from sklearn.impute import SimpleImputer\n",
    "\n"
   ]
  },
  {
   "cell_type": "code",
   "execution_count": 238,
   "id": "72294107-9b87-48f4-a0b6-ceb2a868576b",
   "metadata": {},
   "outputs": [],
   "source": [
    "numerical_pipeline = Pipeline(steps = [\n",
    "    ('imputer', SimpleImputer(missing_values=np.nan, strategy='mean')),\n",
    "    ('scaler', MinMaxScaler(feature_range=(0, 1)))\n",
    "])\n"
   ]
  },
  {
   "cell_type": "code",
   "execution_count": 239,
   "id": "27df0c8e-a9ef-4af8-bbc2-a0c67f79aba8",
   "metadata": {},
   "outputs": [],
   "source": [
    "oneHotEncoding_pipeline = Pipeline(steps = [\n",
    "    ('imputer', SimpleImputer(missing_values=None, strategy='most_frequent')),\n",
    "    ('encoder', OneHotEncoder())\n",
    "])\n"
   ]
  },
  {
   "cell_type": "code",
   "execution_count": 240,
   "id": "0a92484f-9d15-4e17-a686-9df29046d485",
   "metadata": {},
   "outputs": [],
   "source": [
    "ordinal_pipeline = Pipeline(steps = [\n",
    "    ('imputer', SimpleImputer(missing_values=None, strategy='most_frequent')),\n",
    "    ('encoder', OrdinalEncoder())\n",
    "])"
   ]
  },
  {
   "cell_type": "code",
   "execution_count": 241,
   "id": "21cea894-9ea0-4597-8886-a796217f8aa0",
   "metadata": {},
   "outputs": [],
   "source": [
    "transformColumn = ColumnTransformer(transformers = [\n",
    "    ('numerical', numerical_pipeline, numerical_column),    \n",
    "    ('ordinal', ordinal_pipeline, is_ordinal), \n",
    "    ('onehot', oneHotEncoding_pipeline, is_onehot)     \n",
    "])\n"
   ]
  },
  {
   "cell_type": "code",
   "execution_count": 242,
   "id": "8cd101c1-76dd-4be0-87fe-db95f3c33950",
   "metadata": {},
   "outputs": [],
   "source": [
    "dummy_model = Pipeline(steps = [\n",
    "    ('processor', transformColumn)])\n",
    "_ = dummy_model.fit(X, y)"
   ]
  },
  {
   "cell_type": "code",
   "execution_count": 243,
   "id": "8a79605e-101b-4a17-a808-6717c3b1d02d",
   "metadata": {},
   "outputs": [],
   "source": [
    "is_onehot2 = list(dummy_model.named_steps['processor'].named_transformers_['onehot'].named_steps['encoder'].get_feature_names_out(input_features=is_onehot))"
   ]
  },
  {
   "cell_type": "code",
   "execution_count": 244,
   "id": "25606fa5-7e11-4567-8cfe-87c44b791f94",
   "metadata": {
    "scrolled": true
   },
   "outputs": [
    {
     "data": {
      "text/plain": [
       "['Tenure',\n",
       " 'StreamingServices',\n",
       " 'MonthlyCharges',\n",
       " 'Age',\n",
       " 'Avg Monthly GB Download',\n",
       " 'Partner',\n",
       " 'Dependents',\n",
       " 'PhoneService',\n",
       " 'MultipleLines',\n",
       " 'OnlineSecurity',\n",
       " 'OnlineBackup',\n",
       " 'DeviceProtection',\n",
       " 'TechSupport',\n",
       " 'PaperlessBilling',\n",
       " 'Premium Tech Support',\n",
       " 'Unlimited Data',\n",
       " 'InternetService_DSL',\n",
       " 'InternetService_Fiber optic',\n",
       " 'InternetService_No',\n",
       " 'Contract_Month-to-month',\n",
       " 'Contract_One year',\n",
       " 'Contract_Two year',\n",
       " 'PaymentMethod_Cash',\n",
       " 'PaymentMethod_Credit card (automatic)',\n",
       " 'PaymentMethod_Mobile Banking',\n",
       " 'PaymentMethod_eSewa']"
      ]
     },
     "execution_count": 244,
     "metadata": {},
     "output_type": "execute_result"
    }
   ],
   "source": [
    "# Creating a final list of numerical columns by combining original numerical columns\n",
    "# columns identified as ordinal, and columns identified as one-hot encoded\n",
    "numerical_columns_final = list(numerical_column)\n",
    "numerical_columns_final.extend(is_ordinal)\n",
    "numerical_columns_final.extend(is_onehot2)\n",
    "numerical_columns_final"
   ]
  },
  {
   "cell_type": "code",
   "execution_count": 245,
   "id": "31938c19-2afc-4f56-bafc-4bc42dc97734",
   "metadata": {},
   "outputs": [
    {
     "data": {
      "text/plain": [
       "26"
      ]
     },
     "execution_count": 245,
     "metadata": {},
     "output_type": "execute_result"
    }
   ],
   "source": [
    "len(numerical_columns_final)"
   ]
  },
  {
   "cell_type": "code",
   "execution_count": 246,
   "id": "b291060d-d78d-4aa5-a246-2f95dbb88d7a",
   "metadata": {},
   "outputs": [],
   "source": [
    "X = transformColumn.fit_transform(X)"
   ]
  },
  {
   "cell_type": "code",
   "execution_count": 247,
   "id": "eedcce13-9829-4a83-b1c3-d0b51d8eb6e1",
   "metadata": {},
   "outputs": [
    {
     "data": {
      "text/plain": [
       "(7032, 26)"
      ]
     },
     "execution_count": 247,
     "metadata": {},
     "output_type": "execute_result"
    }
   ],
   "source": [
    "X.shape"
   ]
  },
  {
   "cell_type": "code",
   "execution_count": 248,
   "id": "9e5e997d-e8ee-4926-adba-fc06f8ed6118",
   "metadata": {},
   "outputs": [
    {
     "data": {
      "text/plain": [
       "Churn\n",
       "0    5163\n",
       "1    1869\n",
       "Name: count, dtype: int64"
      ]
     },
     "execution_count": 248,
     "metadata": {},
     "output_type": "execute_result"
    }
   ],
   "source": [
    "y.value_counts()"
   ]
  },
  {
   "cell_type": "markdown",
   "id": "3f878226-a1ed-421d-87a3-d952aa444cc1",
   "metadata": {},
   "source": [
    "### New Dataframe for model training \n"
   ]
  },
  {
   "cell_type": "code",
   "execution_count": 249,
   "id": "a7d51192-bd86-4f79-85ff-685b82a5237a",
   "metadata": {},
   "outputs": [],
   "source": [
    "model_df_X= pd.DataFrame(X, columns= numerical_columns_final)"
   ]
  },
  {
   "cell_type": "code",
   "execution_count": 250,
   "id": "92de84c9-5d10-4ecc-8359-ada9916db2f8",
   "metadata": {},
   "outputs": [
    {
     "data": {
      "text/html": [
       "<div>\n",
       "<style scoped>\n",
       "    .dataframe tbody tr th:only-of-type {\n",
       "        vertical-align: middle;\n",
       "    }\n",
       "\n",
       "    .dataframe tbody tr th {\n",
       "        vertical-align: top;\n",
       "    }\n",
       "\n",
       "    .dataframe thead th {\n",
       "        text-align: right;\n",
       "    }\n",
       "</style>\n",
       "<table border=\"1\" class=\"dataframe\">\n",
       "  <thead>\n",
       "    <tr style=\"text-align: right;\">\n",
       "      <th></th>\n",
       "      <th>Tenure</th>\n",
       "      <th>StreamingServices</th>\n",
       "      <th>MonthlyCharges</th>\n",
       "      <th>Age</th>\n",
       "      <th>Avg Monthly GB Download</th>\n",
       "      <th>Partner</th>\n",
       "      <th>Dependents</th>\n",
       "      <th>PhoneService</th>\n",
       "      <th>MultipleLines</th>\n",
       "      <th>OnlineSecurity</th>\n",
       "      <th>...</th>\n",
       "      <th>InternetService_DSL</th>\n",
       "      <th>InternetService_Fiber optic</th>\n",
       "      <th>InternetService_No</th>\n",
       "      <th>Contract_Month-to-month</th>\n",
       "      <th>Contract_One year</th>\n",
       "      <th>Contract_Two year</th>\n",
       "      <th>PaymentMethod_Cash</th>\n",
       "      <th>PaymentMethod_Credit card (automatic)</th>\n",
       "      <th>PaymentMethod_Mobile Banking</th>\n",
       "      <th>PaymentMethod_eSewa</th>\n",
       "    </tr>\n",
       "  </thead>\n",
       "  <tbody>\n",
       "    <tr>\n",
       "      <th>0</th>\n",
       "      <td>0.014085</td>\n",
       "      <td>0.0</td>\n",
       "      <td>0.354229</td>\n",
       "      <td>0.295082</td>\n",
       "      <td>0.276316</td>\n",
       "      <td>0.0</td>\n",
       "      <td>0.0</td>\n",
       "      <td>1.0</td>\n",
       "      <td>0.0</td>\n",
       "      <td>1.0</td>\n",
       "      <td>...</td>\n",
       "      <td>1.0</td>\n",
       "      <td>0.0</td>\n",
       "      <td>0.0</td>\n",
       "      <td>1.0</td>\n",
       "      <td>0.0</td>\n",
       "      <td>0.0</td>\n",
       "      <td>0.0</td>\n",
       "      <td>0.0</td>\n",
       "      <td>0.0</td>\n",
       "      <td>1.0</td>\n",
       "    </tr>\n",
       "    <tr>\n",
       "      <th>1</th>\n",
       "      <td>0.014085</td>\n",
       "      <td>0.0</td>\n",
       "      <td>0.521891</td>\n",
       "      <td>0.000000</td>\n",
       "      <td>0.671053</td>\n",
       "      <td>0.0</td>\n",
       "      <td>0.0</td>\n",
       "      <td>1.0</td>\n",
       "      <td>0.0</td>\n",
       "      <td>0.0</td>\n",
       "      <td>...</td>\n",
       "      <td>0.0</td>\n",
       "      <td>1.0</td>\n",
       "      <td>0.0</td>\n",
       "      <td>1.0</td>\n",
       "      <td>0.0</td>\n",
       "      <td>0.0</td>\n",
       "      <td>1.0</td>\n",
       "      <td>0.0</td>\n",
       "      <td>0.0</td>\n",
       "      <td>0.0</td>\n",
       "    </tr>\n",
       "    <tr>\n",
       "      <th>2</th>\n",
       "      <td>0.098592</td>\n",
       "      <td>1.0</td>\n",
       "      <td>0.809950</td>\n",
       "      <td>0.196721</td>\n",
       "      <td>0.342105</td>\n",
       "      <td>0.0</td>\n",
       "      <td>0.0</td>\n",
       "      <td>1.0</td>\n",
       "      <td>1.0</td>\n",
       "      <td>0.0</td>\n",
       "      <td>...</td>\n",
       "      <td>0.0</td>\n",
       "      <td>1.0</td>\n",
       "      <td>0.0</td>\n",
       "      <td>1.0</td>\n",
       "      <td>0.0</td>\n",
       "      <td>0.0</td>\n",
       "      <td>1.0</td>\n",
       "      <td>0.0</td>\n",
       "      <td>0.0</td>\n",
       "      <td>0.0</td>\n",
       "    </tr>\n",
       "    <tr>\n",
       "      <th>3</th>\n",
       "      <td>0.380282</td>\n",
       "      <td>1.0</td>\n",
       "      <td>0.861194</td>\n",
       "      <td>0.065574</td>\n",
       "      <td>0.618421</td>\n",
       "      <td>1.0</td>\n",
       "      <td>0.0</td>\n",
       "      <td>1.0</td>\n",
       "      <td>1.0</td>\n",
       "      <td>0.0</td>\n",
       "      <td>...</td>\n",
       "      <td>0.0</td>\n",
       "      <td>1.0</td>\n",
       "      <td>0.0</td>\n",
       "      <td>1.0</td>\n",
       "      <td>0.0</td>\n",
       "      <td>0.0</td>\n",
       "      <td>1.0</td>\n",
       "      <td>0.0</td>\n",
       "      <td>0.0</td>\n",
       "      <td>0.0</td>\n",
       "    </tr>\n",
       "    <tr>\n",
       "      <th>4</th>\n",
       "      <td>0.676056</td>\n",
       "      <td>1.0</td>\n",
       "      <td>0.850249</td>\n",
       "      <td>0.311475</td>\n",
       "      <td>0.144737</td>\n",
       "      <td>0.0</td>\n",
       "      <td>0.0</td>\n",
       "      <td>1.0</td>\n",
       "      <td>1.0</td>\n",
       "      <td>0.0</td>\n",
       "      <td>...</td>\n",
       "      <td>0.0</td>\n",
       "      <td>1.0</td>\n",
       "      <td>0.0</td>\n",
       "      <td>1.0</td>\n",
       "      <td>0.0</td>\n",
       "      <td>0.0</td>\n",
       "      <td>0.0</td>\n",
       "      <td>0.0</td>\n",
       "      <td>1.0</td>\n",
       "      <td>0.0</td>\n",
       "    </tr>\n",
       "    <tr>\n",
       "      <th>...</th>\n",
       "      <td>...</td>\n",
       "      <td>...</td>\n",
       "      <td>...</td>\n",
       "      <td>...</td>\n",
       "      <td>...</td>\n",
       "      <td>...</td>\n",
       "      <td>...</td>\n",
       "      <td>...</td>\n",
       "      <td>...</td>\n",
       "      <td>...</td>\n",
       "      <td>...</td>\n",
       "      <td>...</td>\n",
       "      <td>...</td>\n",
       "      <td>...</td>\n",
       "      <td>...</td>\n",
       "      <td>...</td>\n",
       "      <td>...</td>\n",
       "      <td>...</td>\n",
       "      <td>...</td>\n",
       "      <td>...</td>\n",
       "      <td>...</td>\n",
       "    </tr>\n",
       "    <tr>\n",
       "      <th>7027</th>\n",
       "      <td>1.000000</td>\n",
       "      <td>0.0</td>\n",
       "      <td>0.028856</td>\n",
       "      <td>0.180328</td>\n",
       "      <td>0.000000</td>\n",
       "      <td>0.0</td>\n",
       "      <td>0.0</td>\n",
       "      <td>1.0</td>\n",
       "      <td>0.0</td>\n",
       "      <td>0.0</td>\n",
       "      <td>...</td>\n",
       "      <td>0.0</td>\n",
       "      <td>0.0</td>\n",
       "      <td>1.0</td>\n",
       "      <td>0.0</td>\n",
       "      <td>0.0</td>\n",
       "      <td>1.0</td>\n",
       "      <td>0.0</td>\n",
       "      <td>0.0</td>\n",
       "      <td>1.0</td>\n",
       "      <td>0.0</td>\n",
       "    </tr>\n",
       "    <tr>\n",
       "      <th>7028</th>\n",
       "      <td>0.323944</td>\n",
       "      <td>1.0</td>\n",
       "      <td>0.662189</td>\n",
       "      <td>0.311475</td>\n",
       "      <td>0.315789</td>\n",
       "      <td>1.0</td>\n",
       "      <td>1.0</td>\n",
       "      <td>1.0</td>\n",
       "      <td>1.0</td>\n",
       "      <td>1.0</td>\n",
       "      <td>...</td>\n",
       "      <td>1.0</td>\n",
       "      <td>0.0</td>\n",
       "      <td>0.0</td>\n",
       "      <td>0.0</td>\n",
       "      <td>1.0</td>\n",
       "      <td>0.0</td>\n",
       "      <td>0.0</td>\n",
       "      <td>0.0</td>\n",
       "      <td>0.0</td>\n",
       "      <td>1.0</td>\n",
       "    </tr>\n",
       "    <tr>\n",
       "      <th>7029</th>\n",
       "      <td>1.000000</td>\n",
       "      <td>1.0</td>\n",
       "      <td>0.845274</td>\n",
       "      <td>0.180328</td>\n",
       "      <td>0.776316</td>\n",
       "      <td>1.0</td>\n",
       "      <td>1.0</td>\n",
       "      <td>1.0</td>\n",
       "      <td>1.0</td>\n",
       "      <td>0.0</td>\n",
       "      <td>...</td>\n",
       "      <td>0.0</td>\n",
       "      <td>1.0</td>\n",
       "      <td>0.0</td>\n",
       "      <td>0.0</td>\n",
       "      <td>1.0</td>\n",
       "      <td>0.0</td>\n",
       "      <td>0.0</td>\n",
       "      <td>1.0</td>\n",
       "      <td>0.0</td>\n",
       "      <td>0.0</td>\n",
       "    </tr>\n",
       "    <tr>\n",
       "      <th>7030</th>\n",
       "      <td>0.140845</td>\n",
       "      <td>0.0</td>\n",
       "      <td>0.112935</td>\n",
       "      <td>0.213115</td>\n",
       "      <td>0.223684</td>\n",
       "      <td>1.0</td>\n",
       "      <td>1.0</td>\n",
       "      <td>0.0</td>\n",
       "      <td>0.0</td>\n",
       "      <td>1.0</td>\n",
       "      <td>...</td>\n",
       "      <td>1.0</td>\n",
       "      <td>0.0</td>\n",
       "      <td>0.0</td>\n",
       "      <td>1.0</td>\n",
       "      <td>0.0</td>\n",
       "      <td>0.0</td>\n",
       "      <td>1.0</td>\n",
       "      <td>0.0</td>\n",
       "      <td>0.0</td>\n",
       "      <td>0.0</td>\n",
       "    </tr>\n",
       "    <tr>\n",
       "      <th>7031</th>\n",
       "      <td>0.915493</td>\n",
       "      <td>1.0</td>\n",
       "      <td>0.869652</td>\n",
       "      <td>0.409836</td>\n",
       "      <td>0.144737</td>\n",
       "      <td>0.0</td>\n",
       "      <td>0.0</td>\n",
       "      <td>1.0</td>\n",
       "      <td>0.0</td>\n",
       "      <td>1.0</td>\n",
       "      <td>...</td>\n",
       "      <td>0.0</td>\n",
       "      <td>1.0</td>\n",
       "      <td>0.0</td>\n",
       "      <td>0.0</td>\n",
       "      <td>0.0</td>\n",
       "      <td>1.0</td>\n",
       "      <td>0.0</td>\n",
       "      <td>0.0</td>\n",
       "      <td>1.0</td>\n",
       "      <td>0.0</td>\n",
       "    </tr>\n",
       "  </tbody>\n",
       "</table>\n",
       "<p>7032 rows × 26 columns</p>\n",
       "</div>"
      ],
      "text/plain": [
       "        Tenure  StreamingServices  MonthlyCharges       Age  \\\n",
       "0     0.014085                0.0        0.354229  0.295082   \n",
       "1     0.014085                0.0        0.521891  0.000000   \n",
       "2     0.098592                1.0        0.809950  0.196721   \n",
       "3     0.380282                1.0        0.861194  0.065574   \n",
       "4     0.676056                1.0        0.850249  0.311475   \n",
       "...        ...                ...             ...       ...   \n",
       "7027  1.000000                0.0        0.028856  0.180328   \n",
       "7028  0.323944                1.0        0.662189  0.311475   \n",
       "7029  1.000000                1.0        0.845274  0.180328   \n",
       "7030  0.140845                0.0        0.112935  0.213115   \n",
       "7031  0.915493                1.0        0.869652  0.409836   \n",
       "\n",
       "      Avg Monthly GB Download  Partner  Dependents  PhoneService  \\\n",
       "0                    0.276316      0.0         0.0           1.0   \n",
       "1                    0.671053      0.0         0.0           1.0   \n",
       "2                    0.342105      0.0         0.0           1.0   \n",
       "3                    0.618421      1.0         0.0           1.0   \n",
       "4                    0.144737      0.0         0.0           1.0   \n",
       "...                       ...      ...         ...           ...   \n",
       "7027                 0.000000      0.0         0.0           1.0   \n",
       "7028                 0.315789      1.0         1.0           1.0   \n",
       "7029                 0.776316      1.0         1.0           1.0   \n",
       "7030                 0.223684      1.0         1.0           0.0   \n",
       "7031                 0.144737      0.0         0.0           1.0   \n",
       "\n",
       "      MultipleLines  OnlineSecurity  ...  InternetService_DSL  \\\n",
       "0               0.0             1.0  ...                  1.0   \n",
       "1               0.0             0.0  ...                  0.0   \n",
       "2               1.0             0.0  ...                  0.0   \n",
       "3               1.0             0.0  ...                  0.0   \n",
       "4               1.0             0.0  ...                  0.0   \n",
       "...             ...             ...  ...                  ...   \n",
       "7027            0.0             0.0  ...                  0.0   \n",
       "7028            1.0             1.0  ...                  1.0   \n",
       "7029            1.0             0.0  ...                  0.0   \n",
       "7030            0.0             1.0  ...                  1.0   \n",
       "7031            0.0             1.0  ...                  0.0   \n",
       "\n",
       "      InternetService_Fiber optic  InternetService_No  \\\n",
       "0                             0.0                 0.0   \n",
       "1                             1.0                 0.0   \n",
       "2                             1.0                 0.0   \n",
       "3                             1.0                 0.0   \n",
       "4                             1.0                 0.0   \n",
       "...                           ...                 ...   \n",
       "7027                          0.0                 1.0   \n",
       "7028                          0.0                 0.0   \n",
       "7029                          1.0                 0.0   \n",
       "7030                          0.0                 0.0   \n",
       "7031                          1.0                 0.0   \n",
       "\n",
       "      Contract_Month-to-month  Contract_One year  Contract_Two year  \\\n",
       "0                         1.0                0.0                0.0   \n",
       "1                         1.0                0.0                0.0   \n",
       "2                         1.0                0.0                0.0   \n",
       "3                         1.0                0.0                0.0   \n",
       "4                         1.0                0.0                0.0   \n",
       "...                       ...                ...                ...   \n",
       "7027                      0.0                0.0                1.0   \n",
       "7028                      0.0                1.0                0.0   \n",
       "7029                      0.0                1.0                0.0   \n",
       "7030                      1.0                0.0                0.0   \n",
       "7031                      0.0                0.0                1.0   \n",
       "\n",
       "      PaymentMethod_Cash  PaymentMethod_Credit card (automatic)  \\\n",
       "0                    0.0                                    0.0   \n",
       "1                    1.0                                    0.0   \n",
       "2                    1.0                                    0.0   \n",
       "3                    1.0                                    0.0   \n",
       "4                    0.0                                    0.0   \n",
       "...                  ...                                    ...   \n",
       "7027                 0.0                                    0.0   \n",
       "7028                 0.0                                    0.0   \n",
       "7029                 0.0                                    1.0   \n",
       "7030                 1.0                                    0.0   \n",
       "7031                 0.0                                    0.0   \n",
       "\n",
       "      PaymentMethod_Mobile Banking  PaymentMethod_eSewa  \n",
       "0                              0.0                  1.0  \n",
       "1                              0.0                  0.0  \n",
       "2                              0.0                  0.0  \n",
       "3                              0.0                  0.0  \n",
       "4                              1.0                  0.0  \n",
       "...                            ...                  ...  \n",
       "7027                           1.0                  0.0  \n",
       "7028                           0.0                  1.0  \n",
       "7029                           0.0                  0.0  \n",
       "7030                           0.0                  0.0  \n",
       "7031                           1.0                  0.0  \n",
       "\n",
       "[7032 rows x 26 columns]"
      ]
     },
     "execution_count": 250,
     "metadata": {},
     "output_type": "execute_result"
    }
   ],
   "source": [
    "model_df_X"
   ]
  },
  {
   "cell_type": "code",
   "execution_count": 251,
   "id": "88756a24-f623-4888-a157-3d31bcbec050",
   "metadata": {},
   "outputs": [
    {
     "data": {
      "text/html": [
       "<div>\n",
       "<style scoped>\n",
       "    .dataframe tbody tr th:only-of-type {\n",
       "        vertical-align: middle;\n",
       "    }\n",
       "\n",
       "    .dataframe tbody tr th {\n",
       "        vertical-align: top;\n",
       "    }\n",
       "\n",
       "    .dataframe thead th {\n",
       "        text-align: right;\n",
       "    }\n",
       "</style>\n",
       "<table border=\"1\" class=\"dataframe\">\n",
       "  <thead>\n",
       "    <tr style=\"text-align: right;\">\n",
       "      <th></th>\n",
       "      <th>count</th>\n",
       "      <th>mean</th>\n",
       "      <th>std</th>\n",
       "      <th>min</th>\n",
       "      <th>25%</th>\n",
       "      <th>50%</th>\n",
       "      <th>75%</th>\n",
       "      <th>max</th>\n",
       "    </tr>\n",
       "  </thead>\n",
       "  <tbody>\n",
       "    <tr>\n",
       "      <th>Tenure</th>\n",
       "      <td>7032.0</td>\n",
       "      <td>0.442560</td>\n",
       "      <td>0.345708</td>\n",
       "      <td>0.0</td>\n",
       "      <td>0.112676</td>\n",
       "      <td>0.394366</td>\n",
       "      <td>0.760563</td>\n",
       "      <td>1.0</td>\n",
       "    </tr>\n",
       "    <tr>\n",
       "      <th>StreamingServices</th>\n",
       "      <td>7032.0</td>\n",
       "      <td>0.511092</td>\n",
       "      <td>0.499912</td>\n",
       "      <td>0.0</td>\n",
       "      <td>0.000000</td>\n",
       "      <td>1.000000</td>\n",
       "      <td>1.000000</td>\n",
       "      <td>1.0</td>\n",
       "    </tr>\n",
       "    <tr>\n",
       "      <th>MonthlyCharges</th>\n",
       "      <td>7032.0</td>\n",
       "      <td>0.463166</td>\n",
       "      <td>0.299363</td>\n",
       "      <td>0.0</td>\n",
       "      <td>0.172512</td>\n",
       "      <td>0.518408</td>\n",
       "      <td>0.712562</td>\n",
       "      <td>1.0</td>\n",
       "    </tr>\n",
       "    <tr>\n",
       "      <th>Age</th>\n",
       "      <td>7032.0</td>\n",
       "      <td>0.451169</td>\n",
       "      <td>0.274616</td>\n",
       "      <td>0.0</td>\n",
       "      <td>0.213115</td>\n",
       "      <td>0.442623</td>\n",
       "      <td>0.672131</td>\n",
       "      <td>1.0</td>\n",
       "    </tr>\n",
       "    <tr>\n",
       "      <th>Avg Monthly GB Download</th>\n",
       "      <td>7032.0</td>\n",
       "      <td>0.259277</td>\n",
       "      <td>0.251313</td>\n",
       "      <td>0.0</td>\n",
       "      <td>0.039474</td>\n",
       "      <td>0.223684</td>\n",
       "      <td>0.355263</td>\n",
       "      <td>1.0</td>\n",
       "    </tr>\n",
       "    <tr>\n",
       "      <th>Partner</th>\n",
       "      <td>7032.0</td>\n",
       "      <td>0.482509</td>\n",
       "      <td>0.499729</td>\n",
       "      <td>0.0</td>\n",
       "      <td>0.000000</td>\n",
       "      <td>0.000000</td>\n",
       "      <td>1.000000</td>\n",
       "      <td>1.0</td>\n",
       "    </tr>\n",
       "    <tr>\n",
       "      <th>Dependents</th>\n",
       "      <td>7032.0</td>\n",
       "      <td>0.298493</td>\n",
       "      <td>0.457629</td>\n",
       "      <td>0.0</td>\n",
       "      <td>0.000000</td>\n",
       "      <td>0.000000</td>\n",
       "      <td>1.000000</td>\n",
       "      <td>1.0</td>\n",
       "    </tr>\n",
       "    <tr>\n",
       "      <th>PhoneService</th>\n",
       "      <td>7032.0</td>\n",
       "      <td>0.903299</td>\n",
       "      <td>0.295571</td>\n",
       "      <td>0.0</td>\n",
       "      <td>1.000000</td>\n",
       "      <td>1.000000</td>\n",
       "      <td>1.000000</td>\n",
       "      <td>1.0</td>\n",
       "    </tr>\n",
       "    <tr>\n",
       "      <th>MultipleLines</th>\n",
       "      <td>7032.0</td>\n",
       "      <td>0.421928</td>\n",
       "      <td>0.493902</td>\n",
       "      <td>0.0</td>\n",
       "      <td>0.000000</td>\n",
       "      <td>0.000000</td>\n",
       "      <td>1.000000</td>\n",
       "      <td>1.0</td>\n",
       "    </tr>\n",
       "    <tr>\n",
       "      <th>OnlineSecurity</th>\n",
       "      <td>7032.0</td>\n",
       "      <td>0.286547</td>\n",
       "      <td>0.452180</td>\n",
       "      <td>0.0</td>\n",
       "      <td>0.000000</td>\n",
       "      <td>0.000000</td>\n",
       "      <td>1.000000</td>\n",
       "      <td>1.0</td>\n",
       "    </tr>\n",
       "    <tr>\n",
       "      <th>OnlineBackup</th>\n",
       "      <td>7032.0</td>\n",
       "      <td>0.344852</td>\n",
       "      <td>0.475354</td>\n",
       "      <td>0.0</td>\n",
       "      <td>0.000000</td>\n",
       "      <td>0.000000</td>\n",
       "      <td>1.000000</td>\n",
       "      <td>1.0</td>\n",
       "    </tr>\n",
       "    <tr>\n",
       "      <th>DeviceProtection</th>\n",
       "      <td>7032.0</td>\n",
       "      <td>0.343857</td>\n",
       "      <td>0.475028</td>\n",
       "      <td>0.0</td>\n",
       "      <td>0.000000</td>\n",
       "      <td>0.000000</td>\n",
       "      <td>1.000000</td>\n",
       "      <td>1.0</td>\n",
       "    </tr>\n",
       "    <tr>\n",
       "      <th>TechSupport</th>\n",
       "      <td>7032.0</td>\n",
       "      <td>0.290102</td>\n",
       "      <td>0.453842</td>\n",
       "      <td>0.0</td>\n",
       "      <td>0.000000</td>\n",
       "      <td>0.000000</td>\n",
       "      <td>1.000000</td>\n",
       "      <td>1.0</td>\n",
       "    </tr>\n",
       "    <tr>\n",
       "      <th>PaperlessBilling</th>\n",
       "      <td>7032.0</td>\n",
       "      <td>0.592719</td>\n",
       "      <td>0.491363</td>\n",
       "      <td>0.0</td>\n",
       "      <td>0.000000</td>\n",
       "      <td>1.000000</td>\n",
       "      <td>1.000000</td>\n",
       "      <td>1.0</td>\n",
       "    </tr>\n",
       "    <tr>\n",
       "      <th>Premium Tech Support</th>\n",
       "      <td>7032.0</td>\n",
       "      <td>0.290102</td>\n",
       "      <td>0.453842</td>\n",
       "      <td>0.0</td>\n",
       "      <td>0.000000</td>\n",
       "      <td>0.000000</td>\n",
       "      <td>1.000000</td>\n",
       "      <td>1.0</td>\n",
       "    </tr>\n",
       "    <tr>\n",
       "      <th>Unlimited Data</th>\n",
       "      <td>7032.0</td>\n",
       "      <td>0.674061</td>\n",
       "      <td>0.468758</td>\n",
       "      <td>0.0</td>\n",
       "      <td>0.000000</td>\n",
       "      <td>1.000000</td>\n",
       "      <td>1.000000</td>\n",
       "      <td>1.0</td>\n",
       "    </tr>\n",
       "    <tr>\n",
       "      <th>InternetService_DSL</th>\n",
       "      <td>7032.0</td>\n",
       "      <td>0.343572</td>\n",
       "      <td>0.474934</td>\n",
       "      <td>0.0</td>\n",
       "      <td>0.000000</td>\n",
       "      <td>0.000000</td>\n",
       "      <td>1.000000</td>\n",
       "      <td>1.0</td>\n",
       "    </tr>\n",
       "    <tr>\n",
       "      <th>InternetService_Fiber optic</th>\n",
       "      <td>7032.0</td>\n",
       "      <td>0.440273</td>\n",
       "      <td>0.496455</td>\n",
       "      <td>0.0</td>\n",
       "      <td>0.000000</td>\n",
       "      <td>0.000000</td>\n",
       "      <td>1.000000</td>\n",
       "      <td>1.0</td>\n",
       "    </tr>\n",
       "    <tr>\n",
       "      <th>InternetService_No</th>\n",
       "      <td>7032.0</td>\n",
       "      <td>0.216155</td>\n",
       "      <td>0.411650</td>\n",
       "      <td>0.0</td>\n",
       "      <td>0.000000</td>\n",
       "      <td>0.000000</td>\n",
       "      <td>0.000000</td>\n",
       "      <td>1.0</td>\n",
       "    </tr>\n",
       "    <tr>\n",
       "      <th>Contract_Month-to-month</th>\n",
       "      <td>7032.0</td>\n",
       "      <td>0.551052</td>\n",
       "      <td>0.497422</td>\n",
       "      <td>0.0</td>\n",
       "      <td>0.000000</td>\n",
       "      <td>1.000000</td>\n",
       "      <td>1.000000</td>\n",
       "      <td>1.0</td>\n",
       "    </tr>\n",
       "    <tr>\n",
       "      <th>Contract_One year</th>\n",
       "      <td>7032.0</td>\n",
       "      <td>0.209329</td>\n",
       "      <td>0.406858</td>\n",
       "      <td>0.0</td>\n",
       "      <td>0.000000</td>\n",
       "      <td>0.000000</td>\n",
       "      <td>0.000000</td>\n",
       "      <td>1.0</td>\n",
       "    </tr>\n",
       "    <tr>\n",
       "      <th>Contract_Two year</th>\n",
       "      <td>7032.0</td>\n",
       "      <td>0.239619</td>\n",
       "      <td>0.426881</td>\n",
       "      <td>0.0</td>\n",
       "      <td>0.000000</td>\n",
       "      <td>0.000000</td>\n",
       "      <td>0.000000</td>\n",
       "      <td>1.0</td>\n",
       "    </tr>\n",
       "    <tr>\n",
       "      <th>PaymentMethod_Cash</th>\n",
       "      <td>7032.0</td>\n",
       "      <td>0.336320</td>\n",
       "      <td>0.472483</td>\n",
       "      <td>0.0</td>\n",
       "      <td>0.000000</td>\n",
       "      <td>0.000000</td>\n",
       "      <td>1.000000</td>\n",
       "      <td>1.0</td>\n",
       "    </tr>\n",
       "    <tr>\n",
       "      <th>PaymentMethod_Credit card (automatic)</th>\n",
       "      <td>7032.0</td>\n",
       "      <td>0.216297</td>\n",
       "      <td>0.411748</td>\n",
       "      <td>0.0</td>\n",
       "      <td>0.000000</td>\n",
       "      <td>0.000000</td>\n",
       "      <td>0.000000</td>\n",
       "      <td>1.0</td>\n",
       "    </tr>\n",
       "    <tr>\n",
       "      <th>PaymentMethod_Mobile Banking</th>\n",
       "      <td>7032.0</td>\n",
       "      <td>0.219283</td>\n",
       "      <td>0.413790</td>\n",
       "      <td>0.0</td>\n",
       "      <td>0.000000</td>\n",
       "      <td>0.000000</td>\n",
       "      <td>0.000000</td>\n",
       "      <td>1.0</td>\n",
       "    </tr>\n",
       "    <tr>\n",
       "      <th>PaymentMethod_eSewa</th>\n",
       "      <td>7032.0</td>\n",
       "      <td>0.228100</td>\n",
       "      <td>0.419637</td>\n",
       "      <td>0.0</td>\n",
       "      <td>0.000000</td>\n",
       "      <td>0.000000</td>\n",
       "      <td>0.000000</td>\n",
       "      <td>1.0</td>\n",
       "    </tr>\n",
       "  </tbody>\n",
       "</table>\n",
       "</div>"
      ],
      "text/plain": [
       "                                        count      mean       std  min  \\\n",
       "Tenure                                 7032.0  0.442560  0.345708  0.0   \n",
       "StreamingServices                      7032.0  0.511092  0.499912  0.0   \n",
       "MonthlyCharges                         7032.0  0.463166  0.299363  0.0   \n",
       "Age                                    7032.0  0.451169  0.274616  0.0   \n",
       "Avg Monthly GB Download                7032.0  0.259277  0.251313  0.0   \n",
       "Partner                                7032.0  0.482509  0.499729  0.0   \n",
       "Dependents                             7032.0  0.298493  0.457629  0.0   \n",
       "PhoneService                           7032.0  0.903299  0.295571  0.0   \n",
       "MultipleLines                          7032.0  0.421928  0.493902  0.0   \n",
       "OnlineSecurity                         7032.0  0.286547  0.452180  0.0   \n",
       "OnlineBackup                           7032.0  0.344852  0.475354  0.0   \n",
       "DeviceProtection                       7032.0  0.343857  0.475028  0.0   \n",
       "TechSupport                            7032.0  0.290102  0.453842  0.0   \n",
       "PaperlessBilling                       7032.0  0.592719  0.491363  0.0   \n",
       "Premium Tech Support                   7032.0  0.290102  0.453842  0.0   \n",
       "Unlimited Data                         7032.0  0.674061  0.468758  0.0   \n",
       "InternetService_DSL                    7032.0  0.343572  0.474934  0.0   \n",
       "InternetService_Fiber optic            7032.0  0.440273  0.496455  0.0   \n",
       "InternetService_No                     7032.0  0.216155  0.411650  0.0   \n",
       "Contract_Month-to-month                7032.0  0.551052  0.497422  0.0   \n",
       "Contract_One year                      7032.0  0.209329  0.406858  0.0   \n",
       "Contract_Two year                      7032.0  0.239619  0.426881  0.0   \n",
       "PaymentMethod_Cash                     7032.0  0.336320  0.472483  0.0   \n",
       "PaymentMethod_Credit card (automatic)  7032.0  0.216297  0.411748  0.0   \n",
       "PaymentMethod_Mobile Banking           7032.0  0.219283  0.413790  0.0   \n",
       "PaymentMethod_eSewa                    7032.0  0.228100  0.419637  0.0   \n",
       "\n",
       "                                            25%       50%       75%  max  \n",
       "Tenure                                 0.112676  0.394366  0.760563  1.0  \n",
       "StreamingServices                      0.000000  1.000000  1.000000  1.0  \n",
       "MonthlyCharges                         0.172512  0.518408  0.712562  1.0  \n",
       "Age                                    0.213115  0.442623  0.672131  1.0  \n",
       "Avg Monthly GB Download                0.039474  0.223684  0.355263  1.0  \n",
       "Partner                                0.000000  0.000000  1.000000  1.0  \n",
       "Dependents                             0.000000  0.000000  1.000000  1.0  \n",
       "PhoneService                           1.000000  1.000000  1.000000  1.0  \n",
       "MultipleLines                          0.000000  0.000000  1.000000  1.0  \n",
       "OnlineSecurity                         0.000000  0.000000  1.000000  1.0  \n",
       "OnlineBackup                           0.000000  0.000000  1.000000  1.0  \n",
       "DeviceProtection                       0.000000  0.000000  1.000000  1.0  \n",
       "TechSupport                            0.000000  0.000000  1.000000  1.0  \n",
       "PaperlessBilling                       0.000000  1.000000  1.000000  1.0  \n",
       "Premium Tech Support                   0.000000  0.000000  1.000000  1.0  \n",
       "Unlimited Data                         0.000000  1.000000  1.000000  1.0  \n",
       "InternetService_DSL                    0.000000  0.000000  1.000000  1.0  \n",
       "InternetService_Fiber optic            0.000000  0.000000  1.000000  1.0  \n",
       "InternetService_No                     0.000000  0.000000  0.000000  1.0  \n",
       "Contract_Month-to-month                0.000000  1.000000  1.000000  1.0  \n",
       "Contract_One year                      0.000000  0.000000  0.000000  1.0  \n",
       "Contract_Two year                      0.000000  0.000000  0.000000  1.0  \n",
       "PaymentMethod_Cash                     0.000000  0.000000  1.000000  1.0  \n",
       "PaymentMethod_Credit card (automatic)  0.000000  0.000000  0.000000  1.0  \n",
       "PaymentMethod_Mobile Banking           0.000000  0.000000  0.000000  1.0  \n",
       "PaymentMethod_eSewa                    0.000000  0.000000  0.000000  1.0  "
      ]
     },
     "execution_count": 251,
     "metadata": {},
     "output_type": "execute_result"
    }
   ],
   "source": [
    "model_df_X.describe().T"
   ]
  },
  {
   "cell_type": "markdown",
   "id": "f4982488-5ad5-4c2b-a88c-2da9885145b1",
   "metadata": {},
   "source": [
    "### Split New Datasets into train and test"
   ]
  },
  {
   "cell_type": "code",
   "execution_count": 252,
   "id": "f127ef2e-a6ad-41d6-815c-446f7f5d0ba4",
   "metadata": {},
   "outputs": [],
   "source": [
    "# Import all the libraries for model training and evaluation metrices\n",
    "\n",
    "from sklearn.linear_model import LogisticRegression\n",
    "from sklearn.ensemble import RandomForestClassifier, GradientBoostingClassifier\n",
    "from sklearn.svm import SVC\n",
    "from sklearn.naive_bayes import GaussianNB  \n",
    "from sklearn.tree import DecisionTreeClassifier \n",
    "\n",
    "from sklearn.model_selection import train_test_split, GridSearchCV, RandomizedSearchCV, cross_val_score\n",
    "import time \n",
    "from sklearn.metrics import accuracy_score,roc_curve,  roc_auc_score\n",
    "import sys \n",
    "import os"
   ]
  },
  {
   "cell_type": "code",
   "execution_count": 253,
   "id": "05d82795-22c5-414a-943b-f0feffa1dffc",
   "metadata": {},
   "outputs": [],
   "source": [
    "# Divide the train and test data\n",
    "\n",
    "X_train, X_test,y_train, y_test = train_test_split(X, y, test_size=0.20, random_state=23)"
   ]
  },
  {
   "cell_type": "code",
   "execution_count": 254,
   "id": "20ff3ea0-7a9d-4805-9c49-cebb6f7dc395",
   "metadata": {},
   "outputs": [
    {
     "data": {
      "text/plain": [
       "(5625, 26)"
      ]
     },
     "execution_count": 254,
     "metadata": {},
     "output_type": "execute_result"
    }
   ],
   "source": [
    "X_train.shape"
   ]
  },
  {
   "cell_type": "code",
   "execution_count": 255,
   "id": "84980b59-8ccb-4598-88ed-293f4d7ec4a6",
   "metadata": {},
   "outputs": [
    {
     "data": {
      "text/plain": [
       "(1407, 26)"
      ]
     },
     "execution_count": 255,
     "metadata": {},
     "output_type": "execute_result"
    }
   ],
   "source": [
    "X_test.shape"
   ]
  },
  {
   "cell_type": "markdown",
   "id": "c6e81e41-1755-40f3-88d0-6c145b30b9d1",
   "metadata": {},
   "source": [
    "### Function to evaluate classification reports"
   ]
  },
  {
   "cell_type": "code",
   "execution_count": 256,
   "id": "b499ed20-5284-4c15-8a5c-b28c98948634",
   "metadata": {},
   "outputs": [],
   "source": [
    "def display_test_scores(test, pred):\n",
    "    str_out = \"\\n\"\n",
    "    str_out += (\"#####  TEST SCORES  #####\\n--------------------\")\n",
    "    str_out += (\"\\n\")\n",
    "\n",
    "    #print accuracy\n",
    "    accuracy = accuracy_score(test, pred)\n",
    "    str_out += (\"ACCURACY: {:.4f}\\n\".format(accuracy))\n",
    "    str_out += (\"\\n\")\n",
    "\n",
    "    #print AUC score\n",
    "    auc = roc_auc_score(test, pred)\n",
    "    str_out += (\"AUC: {:.4f}\\n\".format(auc))\n",
    "    str_out += (\"\\n\")\n",
    "\n",
    "    #print confusion matrix\n",
    "    str_out += (\"CONFUSION MATRIX:\\n--------------------\\n\")\n",
    "    conf_mat = confusion_matrix(test, pred)\n",
    "    str_out += (\"{}\".format(conf_mat))\n",
    "    str_out += (\"\\n\")\n",
    "    str_out += (\"\\n--------------------\\n\")\n",
    "\n",
    "    #print classification report\n",
    "    str_out += (\"{}\".format(classification_report(test, pred)))\n",
    "    \n",
    "    false_indexes = np.where(test != pred)\n",
    "    return str_out, false_indexes"
   ]
  },
  {
   "cell_type": "markdown",
   "id": "b73de32c-5cee-432b-a72a-22419e1ebd07",
   "metadata": {},
   "source": [
    "# Logistic Regression"
   ]
  },
  {
   "cell_type": "code",
   "execution_count": 257,
   "id": "d2bf9a73-b464-4f59-a4f8-26e5ea60eea6",
   "metadata": {},
   "outputs": [
    {
     "name": "stdout",
     "output_type": "stream",
     "text": [
      "\n",
      "#####  TEST SCORES  #####\n",
      "--------------------\n",
      "ACCURACY: 0.7967\n",
      "\n",
      "AUC: 0.7150\n",
      "\n",
      "CONFUSION MATRIX:\n",
      "--------------------\n",
      "[[922 120]\n",
      " [166 199]]\n",
      "\n",
      "--------------------\n",
      "              precision    recall  f1-score   support\n",
      "\n",
      "           0       0.85      0.88      0.87      1042\n",
      "           1       0.62      0.55      0.58       365\n",
      "\n",
      "    accuracy                           0.80      1407\n",
      "   macro avg       0.74      0.72      0.72      1407\n",
      "weighted avg       0.79      0.80      0.79      1407\n",
      "\n"
     ]
    }
   ],
   "source": [
    "# Use logistic regression model \n",
    "lr = LogisticRegression()\n",
    "lr.fit(X_train, y_train)\n",
    "y_pred= lr.predict(X_test)\n",
    "results, false = display_test_scores(y_test, y_pred)\n",
    "print(results)"
   ]
  },
  {
   "cell_type": "markdown",
   "id": "3e1c307f-40ea-44c0-81ec-4ae8da8a9468",
   "metadata": {},
   "source": [
    "### Tuning with 3 candidates"
   ]
  },
  {
   "cell_type": "code",
   "execution_count": 258,
   "id": "3bc60d61-2d62-4151-a187-5912f17fadfe",
   "metadata": {},
   "outputs": [],
   "source": [
    "# Selecting parameter for tuning\n",
    "\n",
    "param_grid = {\n",
    "    'C': [ 0.1, 1, 10],\n",
    "    'penalty': ['l1','l2'], \n",
    "    'solver': ['liblinear','lbfgs']  \n",
    "}"
   ]
  },
  {
   "cell_type": "code",
   "execution_count": 259,
   "id": "7c22b9b3-ce58-4f04-9094-35f2e59f47d1",
   "metadata": {},
   "outputs": [],
   "source": [
    "start_time = time.time()\n",
    "grid_search = GridSearchCV(lr, param_grid, verbose=1,cv=5, scoring='accuracy')"
   ]
  },
  {
   "cell_type": "code",
   "execution_count": 260,
   "id": "fd88913c-8142-4791-9653-b849c70acfa7",
   "metadata": {},
   "outputs": [
    {
     "name": "stdout",
     "output_type": "stream",
     "text": [
      "Fitting 5 folds for each of 12 candidates, totalling 60 fits\n",
      "The best parameters are {'C': 0.1, 'penalty': 'l1', 'solver': 'liblinear'} \n",
      "\n",
      "Run time for train & test cv (Logistic Regression):  1.5835952758789062\n",
      "\n",
      "#####  TEST SCORES  #####\n",
      "--------------------\n",
      "ACCURACY: 0.7996\n",
      "\n",
      "AUC: 0.7116\n",
      "\n",
      "CONFUSION MATRIX:\n",
      "--------------------\n",
      "[[932 110]\n",
      " [172 193]]\n",
      "\n",
      "--------------------\n",
      "              precision    recall  f1-score   support\n",
      "\n",
      "           0       0.84      0.89      0.87      1042\n",
      "           1       0.64      0.53      0.58       365\n",
      "\n",
      "    accuracy                           0.80      1407\n",
      "   macro avg       0.74      0.71      0.72      1407\n",
      "weighted avg       0.79      0.80      0.79      1407\n",
      "\n"
     ]
    }
   ],
   "source": [
    "grid_search.fit(X_train, y_train)\n",
    "end_time = time.time()\n",
    "\n",
    "print(\"The best parameters are %s \" % (grid_search.best_params_))\n",
    "print(\"\\nRun time for train & test cv (Logistic Regression): \", end_time - start_time)\n",
    "\n",
    "y_pred = grid_search.predict(X_test)\n",
    "results, false = display_test_scores(y_test, y_pred)\n",
    "print(results)"
   ]
  },
  {
   "cell_type": "markdown",
   "id": "f4180213-9575-4463-8dc5-fd470c1cb40b",
   "metadata": {},
   "source": [
    "### Tuning with 7 candidates "
   ]
  },
  {
   "cell_type": "code",
   "execution_count": 261,
   "id": "11772e95-12cd-4fb1-a434-890c05413b81",
   "metadata": {},
   "outputs": [],
   "source": [
    "param_grid2 = {\n",
    "    'C': [ 0.001, 0.01, 0.1, 1, 10, 100, 1000],\n",
    "    'penalty': ['l1', 'l2'], \n",
    "    'solver': [ 'lbfgs', 'liblinear']  \n",
    "}\n"
   ]
  },
  {
   "cell_type": "code",
   "execution_count": 262,
   "id": "1db66b47-2283-4679-bd8b-0be1c18da6f5",
   "metadata": {},
   "outputs": [],
   "source": [
    "# Use of grid search CV\n",
    "start_time = time.time()\n",
    "grid_search2 = GridSearchCV(lr, param_grid2, verbose=1,cv=5, scoring='accuracy')"
   ]
  },
  {
   "cell_type": "code",
   "execution_count": 263,
   "id": "ebc1ca2e-68c9-4887-936d-f176c03b9926",
   "metadata": {},
   "outputs": [
    {
     "name": "stdout",
     "output_type": "stream",
     "text": [
      "Fitting 5 folds for each of 28 candidates, totalling 140 fits\n",
      "The best parameters are {'C': 0.1, 'penalty': 'l1', 'solver': 'liblinear'} \n",
      "\n",
      "Run time for train & test cv (Logistic Regression):  3.3083977699279785\n",
      "\n",
      "#####  TEST SCORES  #####\n",
      "--------------------\n",
      "ACCURACY: 0.7996\n",
      "\n",
      "AUC: 0.7116\n",
      "\n",
      "CONFUSION MATRIX:\n",
      "--------------------\n",
      "[[932 110]\n",
      " [172 193]]\n",
      "\n",
      "--------------------\n",
      "              precision    recall  f1-score   support\n",
      "\n",
      "           0       0.84      0.89      0.87      1042\n",
      "           1       0.64      0.53      0.58       365\n",
      "\n",
      "    accuracy                           0.80      1407\n",
      "   macro avg       0.74      0.71      0.72      1407\n",
      "weighted avg       0.79      0.80      0.79      1407\n",
      "\n"
     ]
    }
   ],
   "source": [
    "grid_search2.fit(X_train, y_train)\n",
    "end_time = time.time()\n",
    "\n",
    "print(\"The best parameters are %s \" % (grid_search2.best_params_))\n",
    "print(\"\\nRun time for train & test cv (Logistic Regression): \", end_time - start_time)\n",
    "\n",
    "y_pred = grid_search2.predict(X_test)\n",
    "results, false = display_test_scores(y_test, y_pred)\n",
    "print(results)"
   ]
  },
  {
   "cell_type": "markdown",
   "id": "1931a54b-fa22-4bc1-a90e-4579803af69c",
   "metadata": {},
   "source": [
    "# Random Forest Classifier"
   ]
  },
  {
   "cell_type": "code",
   "execution_count": 264,
   "id": "232a5a9e-d0e6-4a55-86c4-73d0b451cae4",
   "metadata": {},
   "outputs": [
    {
     "name": "stdout",
     "output_type": "stream",
     "text": [
      "\n",
      "#####  TEST SCORES  #####\n",
      "--------------------\n",
      "ACCURACY: 0.7854\n",
      "\n",
      "AUC: 0.6931\n",
      "\n",
      "CONFUSION MATRIX:\n",
      "--------------------\n",
      "[[922 120]\n",
      " [182 183]]\n",
      "\n",
      "--------------------\n",
      "              precision    recall  f1-score   support\n",
      "\n",
      "           0       0.84      0.88      0.86      1042\n",
      "           1       0.60      0.50      0.55       365\n",
      "\n",
      "    accuracy                           0.79      1407\n",
      "   macro avg       0.72      0.69      0.70      1407\n",
      "weighted avg       0.78      0.79      0.78      1407\n",
      "\n"
     ]
    }
   ],
   "source": [
    "# Using random forest classifier\n",
    "\n",
    "rf= RandomForestClassifier()\n",
    "rf.fit(X_train, y_train)\n",
    "y_pred= rf.predict(X_test)\n",
    "results, false = display_test_scores(y_test, y_pred)\n",
    "print(results)"
   ]
  },
  {
   "cell_type": "markdown",
   "id": "b0317aae-70a8-49a9-974b-31ba3957e055",
   "metadata": {},
   "source": [
    "### Tuning n_ estimators with 3 values"
   ]
  },
  {
   "cell_type": "code",
   "execution_count": 265,
   "id": "9f178369-2661-4756-b000-1b344821aef7",
   "metadata": {},
   "outputs": [],
   "source": [
    "param_dist = {\n",
    "    'n_estimators': [20, 40, 60],\n",
    "    'max_features': [0.2,0.4],\n",
    "    'max_depth': [2, 4],\n",
    "    'max_samples': [0.5, 0.6]\n",
    "}"
   ]
  },
  {
   "cell_type": "code",
   "execution_count": 266,
   "id": "5f14e787-19f8-440e-a0f4-a56fb1f87e81",
   "metadata": {},
   "outputs": [],
   "source": [
    "# Fitting a Random Forest model with hyperparameter tuning using RandomizedSearchCV\n",
    "# Assuming 'rf_random' is a RandomizedSearchCV object previously defined and configured\n",
    "\n",
    "start_time = time.time()\n",
    "rf_random = RandomizedSearchCV(rf, param_distributions=param_dist, n_iter=50, cv=5, verbose=1, n_jobs=-1, random_state=42)"
   ]
  },
  {
   "cell_type": "code",
   "execution_count": 267,
   "id": "2b09bbe3-67a3-4698-86cd-51692f9e69e6",
   "metadata": {},
   "outputs": [
    {
     "name": "stdout",
     "output_type": "stream",
     "text": [
      "Fitting 5 folds for each of 24 candidates, totalling 120 fits\n",
      "The best parameters are {'n_estimators': 40, 'max_samples': 0.6, 'max_features': 0.4, 'max_depth': 4} \n",
      "\n",
      "Run time for train & test cv (Random Forest ):  15.5792236328125\n",
      "\n",
      "#####  TEST SCORES  #####\n",
      "--------------------\n",
      "ACCURACY: 0.7925\n",
      "\n",
      "AUC: 0.6632\n",
      "\n",
      "CONFUSION MATRIX:\n",
      "--------------------\n",
      "[[971  71]\n",
      " [221 144]]\n",
      "\n",
      "--------------------\n",
      "              precision    recall  f1-score   support\n",
      "\n",
      "           0       0.81      0.93      0.87      1042\n",
      "           1       0.67      0.39      0.50       365\n",
      "\n",
      "    accuracy                           0.79      1407\n",
      "   macro avg       0.74      0.66      0.68      1407\n",
      "weighted avg       0.78      0.79      0.77      1407\n",
      "\n"
     ]
    }
   ],
   "source": [
    "rf_random.fit(X_train, y_train)\n",
    "end_time = time.time()\n",
    "\n",
    "print(\"The best parameters are %s \" % (rf_random.best_params_))\n",
    "print(\"\\nRun time for train & test cv (Random Forest ): \", end_time - start_time)\n",
    "\n",
    "# Displaying test scores and false predictions using a custom function 'display_test_scores'\n",
    "# Assuming 'display_test_scores' is a function that evaluates model performance\n",
    "\n",
    "y_pred = rf_random.predict(X_test)\n",
    "results, false = display_test_scores(y_test, y_pred)\n",
    "print(results)\n"
   ]
  },
  {
   "cell_type": "markdown",
   "id": "0e7733ee-f40e-4ff8-9ea9-847963ce9dcf",
   "metadata": {},
   "source": [
    "### Tuning n_estimators with 6 values"
   ]
  },
  {
   "cell_type": "code",
   "execution_count": 268,
   "id": "d5f59c86-4e1d-43d6-a4e9-b5494709cd0a",
   "metadata": {},
   "outputs": [],
   "source": [
    "param_dist2 = {\n",
    "    'n_estimators': [140, 160, 180, 200,220,240],\n",
    "    'max_features': [0.6, 0.8, 1.0],\n",
    "    'max_depth': [6, 8, 10, 12, 14],\n",
    "    'max_samples': [0.7, 0.8, 0.9, 1.0]\n",
    "}\n"
   ]
  },
  {
   "cell_type": "code",
   "execution_count": 269,
   "id": "ff83510f-833b-4730-8ab2-ef0666adb4cd",
   "metadata": {},
   "outputs": [],
   "source": [
    "start_time = time.time()\n",
    "rf_random2 = RandomizedSearchCV(rf, param_distributions=param_dist2, n_iter=50, cv=5, verbose=2, n_jobs=-1, random_state=42)\n"
   ]
  },
  {
   "cell_type": "code",
   "execution_count": 270,
   "id": "cd6e09ec-7eb4-49b3-a0c1-75c06ace3da2",
   "metadata": {},
   "outputs": [
    {
     "name": "stdout",
     "output_type": "stream",
     "text": [
      "Fitting 5 folds for each of 50 candidates, totalling 250 fits\n",
      "The best parameters are {'n_estimators': 200, 'max_samples': 0.8, 'max_features': 0.6, 'max_depth': 6} \n",
      "\n",
      "Run time for train & test cv (Random Forest Regression):  101.48988008499146\n",
      "\n",
      "#####  TEST SCORES  #####\n",
      "--------------------\n",
      "ACCURACY: 0.7989\n",
      "\n",
      "AUC: 0.7076\n",
      "\n",
      "CONFUSION MATRIX:\n",
      "--------------------\n",
      "[[935 107]\n",
      " [176 189]]\n",
      "\n",
      "--------------------\n",
      "              precision    recall  f1-score   support\n",
      "\n",
      "           0       0.84      0.90      0.87      1042\n",
      "           1       0.64      0.52      0.57       365\n",
      "\n",
      "    accuracy                           0.80      1407\n",
      "   macro avg       0.74      0.71      0.72      1407\n",
      "weighted avg       0.79      0.80      0.79      1407\n",
      "\n"
     ]
    }
   ],
   "source": [
    "rf_random2.fit(X_train, y_train)\n",
    "end_time = time.time()\n",
    "\n",
    "print(\"The best parameters are %s \" % (rf_random2.best_params_))\n",
    "print(\"\\nRun time for train & test cv (Random Forest Regression): \", end_time - start_time)\n",
    "\n",
    "y_pred = rf_random2.predict(X_test)\n",
    "results, false = display_test_scores(y_test, y_pred)\n",
    "print(results)\n"
   ]
  },
  {
   "cell_type": "markdown",
   "id": "3b87a5cd-3638-4c62-9c7d-8df8dbd60405",
   "metadata": {},
   "source": [
    "# Decision Tree Classifier"
   ]
  },
  {
   "cell_type": "code",
   "execution_count": 271,
   "id": "1689578f-da88-4bf1-913e-2896abeb7e74",
   "metadata": {},
   "outputs": [
    {
     "name": "stdout",
     "output_type": "stream",
     "text": [
      "\n",
      "#####  TEST SCORES  #####\n",
      "--------------------\n",
      "ACCURACY: 0.7363\n",
      "\n",
      "AUC: 0.6680\n",
      "\n",
      "CONFUSION MATRIX:\n",
      "--------------------\n",
      "[[844 198]\n",
      " [173 192]]\n",
      "\n",
      "--------------------\n",
      "              precision    recall  f1-score   support\n",
      "\n",
      "           0       0.83      0.81      0.82      1042\n",
      "           1       0.49      0.53      0.51       365\n",
      "\n",
      "    accuracy                           0.74      1407\n",
      "   macro avg       0.66      0.67      0.66      1407\n",
      "weighted avg       0.74      0.74      0.74      1407\n",
      "\n"
     ]
    }
   ],
   "source": [
    "# Use of decision tree classifier\n",
    "\n",
    "dt_classifier = DecisionTreeClassifier(random_state=0, criterion=\"entropy\")\n",
    "dt_classifier.fit(X_train, y_train)\n",
    "y_pred= dt_classifier.predict(X_test)\n",
    "results, false = display_test_scores(y_test, y_pred)\n",
    "print(results)"
   ]
  },
  {
   "cell_type": "markdown",
   "id": "2f760138-87cd-456f-abed-2915af60503b",
   "metadata": {},
   "source": [
    "### Tuning with 3 values of max_depth "
   ]
  },
  {
   "cell_type": "code",
   "execution_count": 272,
   "id": "84496e17-424d-440e-9698-71d4eb882129",
   "metadata": {},
   "outputs": [],
   "source": [
    "params = {\n",
    "    'max_depth': [2, 3, 5],\n",
    "    'min_samples_leaf': [5, 10, 20],\n",
    "    'criterion': [\"gini\", \"entropy\"]\n",
    "}"
   ]
  },
  {
   "cell_type": "code",
   "execution_count": 273,
   "id": "6e37ae7d-96cb-4ef7-9838-d1221b050b31",
   "metadata": {},
   "outputs": [],
   "source": [
    "start_time = time.time()\n",
    "grid_dt = GridSearchCV(dt_classifier, param_grid=params, verbose=1, cv=5, n_jobs=-1)"
   ]
  },
  {
   "cell_type": "code",
   "execution_count": 274,
   "id": "376db084-adb3-4462-8b7d-1b2b1fc8f28f",
   "metadata": {},
   "outputs": [
    {
     "name": "stdout",
     "output_type": "stream",
     "text": [
      "Fitting 5 folds for each of 18 candidates, totalling 90 fits\n",
      "The best parameters are {'criterion': 'entropy', 'max_depth': 5, 'min_samples_leaf': 10} \n",
      "\n",
      "Run time for train & test cv (Decision Tree):  0.3693273067474365\n",
      "\n",
      "#####  TEST SCORES  #####\n",
      "--------------------\n",
      "ACCURACY: 0.7939\n",
      "\n",
      "AUC: 0.6926\n",
      "\n",
      "CONFUSION MATRIX:\n",
      "--------------------\n",
      "[[941 101]\n",
      " [189 176]]\n",
      "\n",
      "--------------------\n",
      "              precision    recall  f1-score   support\n",
      "\n",
      "           0       0.83      0.90      0.87      1042\n",
      "           1       0.64      0.48      0.55       365\n",
      "\n",
      "    accuracy                           0.79      1407\n",
      "   macro avg       0.73      0.69      0.71      1407\n",
      "weighted avg       0.78      0.79      0.78      1407\n",
      "\n"
     ]
    }
   ],
   "source": [
    "grid_dt.fit(X_train, y_train)\n",
    "end_time = time.time()\n",
    "\n",
    "print(\"The best parameters are %s \" % (grid_dt.best_params_))\n",
    "print(\"\\nRun time for train & test cv (Decision Tree): \", end_time - start_time)\n",
    "\n",
    "y_pred_dt = grid_dt.predict(X_test)\n",
    "results_dt, false_dt = display_test_scores(y_test, y_pred_dt)\n",
    "print(results_dt)"
   ]
  },
  {
   "cell_type": "markdown",
   "id": "ded1e521-2ee9-47d7-a386-38dab670f99d",
   "metadata": {},
   "source": [
    "### Tuning with 6 values of max_depth"
   ]
  },
  {
   "cell_type": "code",
   "execution_count": 275,
   "id": "59eb074b-f220-4abd-a5e9-16f402e85f4d",
   "metadata": {},
   "outputs": [],
   "source": [
    "params = {\n",
    "    'max_depth': [2, 3, 5, 10, 20, 40],\n",
    "    'min_samples_leaf': [5, 10, 20, 50, 100],\n",
    "    'criterion': [\"gini\", \"entropy\"]\n",
    "}"
   ]
  },
  {
   "cell_type": "code",
   "execution_count": 276,
   "id": "36ef8132-0fa0-4a44-8d59-8b892f390cc1",
   "metadata": {},
   "outputs": [],
   "source": [
    "start_time = time.time()\n",
    "grid_dt2 = GridSearchCV(dt_classifier, param_grid=params, verbose=1, cv=5, n_jobs=-1)"
   ]
  },
  {
   "cell_type": "code",
   "execution_count": 277,
   "id": "f3039d42-97cc-4d1f-8868-a5afc20556c1",
   "metadata": {},
   "outputs": [
    {
     "name": "stdout",
     "output_type": "stream",
     "text": [
      "Fitting 5 folds for each of 60 candidates, totalling 300 fits\n",
      "The best parameters are {'criterion': 'entropy', 'max_depth': 10, 'min_samples_leaf': 100} \n",
      "\n",
      "Run time for train & test cv (Decision Tree):  0.9269471168518066\n",
      "\n",
      "#####  TEST SCORES  #####\n",
      "--------------------\n",
      "ACCURACY: 0.7953\n",
      "\n",
      "AUC: 0.6954\n",
      "\n",
      "CONFUSION MATRIX:\n",
      "--------------------\n",
      "[[941 101]\n",
      " [187 178]]\n",
      "\n",
      "--------------------\n",
      "              precision    recall  f1-score   support\n",
      "\n",
      "           0       0.83      0.90      0.87      1042\n",
      "           1       0.64      0.49      0.55       365\n",
      "\n",
      "    accuracy                           0.80      1407\n",
      "   macro avg       0.74      0.70      0.71      1407\n",
      "weighted avg       0.78      0.80      0.79      1407\n",
      "\n"
     ]
    }
   ],
   "source": [
    "grid_dt2.fit(X_train, y_train)\n",
    "end_time = time.time()\n",
    "\n",
    "print(\"The best parameters are %s \" % (grid_dt2.best_params_))\n",
    "print(\"\\nRun time for train & test cv (Decision Tree): \", end_time - start_time)\n",
    "\n",
    "y_pred_dt = grid_dt2.predict(X_test)\n",
    "results_dt, false_dt = display_test_scores(y_test, y_pred_dt)\n",
    "print(results_dt)"
   ]
  },
  {
   "cell_type": "markdown",
   "id": "4832fb86-aceb-4683-9df0-d569d0c76887",
   "metadata": {},
   "source": [
    "# Naive Bayes Classifier"
   ]
  },
  {
   "cell_type": "code",
   "execution_count": 278,
   "id": "fb4b0ad0-d96c-4fb2-9948-b35e219cf74f",
   "metadata": {},
   "outputs": [
    {
     "name": "stdout",
     "output_type": "stream",
     "text": [
      "\n",
      "#####  TEST SCORES  #####\n",
      "--------------------\n",
      "ACCURACY: 0.7520\n",
      "\n",
      "AUC: 0.7604\n",
      "\n",
      "CONFUSION MATRIX:\n",
      "--------------------\n",
      "[[774 268]\n",
      " [ 81 284]]\n",
      "\n",
      "--------------------\n",
      "              precision    recall  f1-score   support\n",
      "\n",
      "           0       0.91      0.74      0.82      1042\n",
      "           1       0.51      0.78      0.62       365\n",
      "\n",
      "    accuracy                           0.75      1407\n",
      "   macro avg       0.71      0.76      0.72      1407\n",
      "weighted avg       0.80      0.75      0.77      1407\n",
      "\n"
     ]
    }
   ],
   "source": [
    "nb= GaussianNB()\n",
    "nb.fit(X_train,y_train)\n",
    "y_pred= nb.predict(X_test)\n",
    "results, false = display_test_scores(y_test, y_pred)\n",
    "print(results)"
   ]
  },
  {
   "cell_type": "markdown",
   "id": "cbaf0474-9c7f-4045-8ebb-d25e11d0f851",
   "metadata": {},
   "source": [
    "### Tuning with var_smoothing upto 1e-2 "
   ]
  },
  {
   "cell_type": "code",
   "execution_count": 279,
   "id": "4b9e442f-813c-4e52-8b56-f627535adb04",
   "metadata": {},
   "outputs": [],
   "source": [
    "params_NB = {'var_smoothing': np.logspace(0,-2, num=10)}"
   ]
  },
  {
   "cell_type": "code",
   "execution_count": 280,
   "id": "e8b1a225-6332-4f4e-b233-bd288a99f0e8",
   "metadata": {},
   "outputs": [],
   "source": [
    "start_time = time.time()\n",
    "gnb_grid = GridSearchCV(nb, params_NB, cv=5, verbose=1, n_jobs=-1)"
   ]
  },
  {
   "cell_type": "code",
   "execution_count": 281,
   "id": "681325d6-5993-41d5-bc56-bfa0493c1a4d",
   "metadata": {},
   "outputs": [
    {
     "name": "stdout",
     "output_type": "stream",
     "text": [
      "Fitting 5 folds for each of 10 candidates, totalling 50 fits\n",
      "The best parameters are {'var_smoothing': 0.016681005372000592} \n",
      "\n",
      "Run time for train & test cv (Naive Bayes using Gaussian NB):  -0.043143272399902344\n",
      "\n",
      "#####  TEST SCORES  #####\n",
      "--------------------\n",
      "ACCURACY: 0.7541\n",
      "\n",
      "AUC: 0.7619\n",
      "\n",
      "CONFUSION MATRIX:\n",
      "--------------------\n",
      "[[777 265]\n",
      " [ 81 284]]\n",
      "\n",
      "--------------------\n",
      "              precision    recall  f1-score   support\n",
      "\n",
      "           0       0.91      0.75      0.82      1042\n",
      "           1       0.52      0.78      0.62       365\n",
      "\n",
      "    accuracy                           0.75      1407\n",
      "   macro avg       0.71      0.76      0.72      1407\n",
      "weighted avg       0.80      0.75      0.77      1407\n",
      "\n"
     ]
    }
   ],
   "source": [
    "gnb_grid.fit(X_test, y_test)\n",
    "print(\"The best parameters are %s \" % (gnb_grid.best_params_))\n",
    "print(\"\\nRun time for train & test cv (Naive Bayes using Gaussian NB): \", end_time - start_time)\n",
    "\n",
    "y_pred = gnb_grid.predict(X_test)\n",
    "results, false = display_test_scores(y_test, y_pred)\n",
    "print(results)"
   ]
  },
  {
   "cell_type": "markdown",
   "id": "0d9c599c-757f-4604-9225-80ed7239d9e0",
   "metadata": {},
   "source": [
    "### Tuning with values of var_smoothing upto 1e-9 "
   ]
  },
  {
   "cell_type": "code",
   "execution_count": 282,
   "id": "46bf4805-d94e-4be2-8c7c-611aa865b553",
   "metadata": {},
   "outputs": [],
   "source": [
    "params_NB2 = {'var_smoothing': np.logspace(0,-9, num=10)}"
   ]
  },
  {
   "cell_type": "code",
   "execution_count": 283,
   "id": "d96a6e63-b5f1-40ec-a90c-15fd4a040041",
   "metadata": {},
   "outputs": [],
   "source": [
    "start_time = time.time()\n",
    "gnb_grid2 = GridSearchCV(nb, params_NB2, cv=5, verbose=1, n_jobs=-1)"
   ]
  },
  {
   "cell_type": "code",
   "execution_count": 284,
   "id": "9c79da27-6fc7-4bb7-9a85-ddaa65d50eb6",
   "metadata": {},
   "outputs": [
    {
     "name": "stdout",
     "output_type": "stream",
     "text": [
      "Fitting 5 folds for each of 10 candidates, totalling 50 fits\n",
      "The best parameters are {'var_smoothing': 0.001} \n",
      "\n",
      "Run time for train & test cv (Naive Bayes using Gaussian NB):  -0.1664419174194336\n",
      "\n",
      "#####  TEST SCORES  #####\n",
      "--------------------\n",
      "ACCURACY: 0.7555\n",
      "\n",
      "AUC: 0.7628\n",
      "\n",
      "CONFUSION MATRIX:\n",
      "--------------------\n",
      "[[779 263]\n",
      " [ 81 284]]\n",
      "\n",
      "--------------------\n",
      "              precision    recall  f1-score   support\n",
      "\n",
      "           0       0.91      0.75      0.82      1042\n",
      "           1       0.52      0.78      0.62       365\n",
      "\n",
      "    accuracy                           0.76      1407\n",
      "   macro avg       0.71      0.76      0.72      1407\n",
      "weighted avg       0.81      0.76      0.77      1407\n",
      "\n"
     ]
    }
   ],
   "source": [
    "gnb_grid2.fit(X_test, y_test)\n",
    "print(\"The best parameters are %s \" % (gnb_grid2.best_params_))\n",
    "print(\"\\nRun time for train & test cv (Naive Bayes using Gaussian NB): \", end_time - start_time)\n",
    "\n",
    "y_pred = gnb_grid2.predict(X_test)\n",
    "results, false = display_test_scores(y_test, y_pred)\n",
    "print(results)"
   ]
  },
  {
   "cell_type": "markdown",
   "id": "422909f4-a143-4f20-b675-413dda2b07f5",
   "metadata": {},
   "source": [
    "# Support Vector Machine"
   ]
  },
  {
   "cell_type": "code",
   "execution_count": 285,
   "id": "407fe634-b17b-427b-bdfe-845fd83cd90b",
   "metadata": {},
   "outputs": [
    {
     "name": "stdout",
     "output_type": "stream",
     "text": [
      "\n",
      "#####  TEST SCORES  #####\n",
      "--------------------\n",
      "ACCURACY: 0.7967\n",
      "\n",
      "AUC: 0.7008\n",
      "\n",
      "CONFUSION MATRIX:\n",
      "--------------------\n",
      "[[938 104]\n",
      " [182 183]]\n",
      "\n",
      "--------------------\n",
      "              precision    recall  f1-score   support\n",
      "\n",
      "           0       0.84      0.90      0.87      1042\n",
      "           1       0.64      0.50      0.56       365\n",
      "\n",
      "    accuracy                           0.80      1407\n",
      "   macro avg       0.74      0.70      0.71      1407\n",
      "weighted avg       0.79      0.80      0.79      1407\n",
      "\n"
     ]
    }
   ],
   "source": [
    "svm= SVC()\n",
    "svm.fit(X_train, y_train)\n",
    "y_pred= svm.predict(X_test)\n",
    "results, false = display_test_scores(y_test, y_pred)\n",
    "print(results)"
   ]
  },
  {
   "cell_type": "markdown",
   "id": "46f1b524-f177-420a-93fc-35e7a9e26a2c",
   "metadata": {},
   "source": [
    "### Tuning with 3 components"
   ]
  },
  {
   "cell_type": "code",
   "execution_count": 286,
   "id": "6195e917-e1eb-48d6-ab9a-6063f0a22f99",
   "metadata": {},
   "outputs": [],
   "source": [
    "parameters = {\n",
    "    \"C\": [0.001, 0.01, 0.1],\n",
    "    \"kernel\": [\"linear\", \"poly\", \"rbf\", \"sigmoid\"],\n",
    "    \"gamma\": [\"scale\", \"auto\"],\n",
    "}"
   ]
  },
  {
   "cell_type": "code",
   "execution_count": 287,
   "id": "9cd1620e-b606-4d13-a692-7276ff1fabfd",
   "metadata": {},
   "outputs": [],
   "source": [
    "start_time=time.time()\n",
    "grid_6 = GridSearchCV(svm, param_grid=parameters, verbose=1, cv=5, n_jobs=-1)"
   ]
  },
  {
   "cell_type": "code",
   "execution_count": 288,
   "id": "f1ab7114-ec8a-43a3-a9c1-83385bb9e4ae",
   "metadata": {},
   "outputs": [
    {
     "name": "stdout",
     "output_type": "stream",
     "text": [
      "Fitting 5 folds for each of 24 candidates, totalling 120 fits\n",
      "The best parameters are {'C': 0.1, 'gamma': 'scale', 'kernel': 'linear'} \n",
      "\n",
      "Run time for train&test cv SVM :  20.78686809539795\n",
      "\n",
      "#####  TEST SCORES  #####\n",
      "--------------------\n",
      "ACCURACY: 0.7982\n",
      "\n",
      "AUC: 0.7124\n",
      "\n",
      "CONFUSION MATRIX:\n",
      "--------------------\n",
      "[[928 114]\n",
      " [170 195]]\n",
      "\n",
      "--------------------\n",
      "              precision    recall  f1-score   support\n",
      "\n",
      "           0       0.85      0.89      0.87      1042\n",
      "           1       0.63      0.53      0.58       365\n",
      "\n",
      "    accuracy                           0.80      1407\n",
      "   macro avg       0.74      0.71      0.72      1407\n",
      "weighted avg       0.79      0.80      0.79      1407\n",
      "\n"
     ]
    }
   ],
   "source": [
    "grid_6.fit(X_train, y_train)\n",
    "\n",
    "print(\"The best parameters are %s \"\n",
    "      % (grid_6.best_params_))\n",
    "\n",
    "y_pred = grid_6.predict(X_test)\n",
    "\n",
    "end_time=time.time()\n",
    "print(\"\\nRun time for train&test cv SVM : \", end_time-start_time)\n",
    "\n",
    "results, false = display_test_scores(y_test, y_pred)\n",
    "print(results)"
   ]
  },
  {
   "cell_type": "markdown",
   "id": "de8bcc76-7995-40ac-81c8-cd3ac6e0f99a",
   "metadata": {},
   "source": [
    "# Evaluate Model Performance"
   ]
  },
  {
   "cell_type": "code",
   "execution_count": 289,
   "id": "73af80aa-5d95-4e07-bbb4-d06694bcc0d8",
   "metadata": {},
   "outputs": [
    {
     "data": {
      "image/png": "[encoded data removed]",
      "text/plain": [
       "<Figure size 640x480 with 1 Axes>"
      ]
     },
     "metadata": {},
     "output_type": "display_data"
    }
   ],
   "source": [
    "# Creating a dictionary of machine learning models with specified hyperparameters\n",
    "# Each model is initialized with specific settings for later cross-validation\n",
    "\n",
    "models = {\n",
    "          'LogisticRegression':LogisticRegression(penalty = 'l1', C = 1, solver='liblinear' ),\n",
    "          'SVM':SVC(kernel = 'linear', C = 0.1, gamma='scale', probability=True),\n",
    "          'RandomForestClassifier':RandomForestClassifier(n_estimators= 200, max_samples= 0.8, max_features= 0.8, max_depth= 6),\n",
    "          'NaiveBayes': GaussianNB(var_smoothing = 0.001),\n",
    "          'DecisionTree':DecisionTreeClassifier( criterion= 'entropy', max_depth = 10, min_samples_leaf = 100)\n",
    "         }\n",
    "\n",
    "results = []\n",
    "for model in models.values() :\n",
    "    cv_score = cross_val_score(model, X_train, y_train, cv = 5)\n",
    "    results.append(cv_score)\n",
    "\n",
    "plt.boxplot(results, labels = models.keys())\n",
    "plt.title('Accuracy Score Box Plot')\n",
    "plt.xticks(rotation = 270)\n",
    "plt.ylabel('Accuracy Score')\n",
    "plt.show()"
   ]
  },
  {
   "cell_type": "markdown",
   "id": "43027267-eddb-4f3f-8fb3-fac991b78703",
   "metadata": {},
   "source": [
    "# Compare under ROC Curve"
   ]
  },
  {
   "cell_type": "code",
   "execution_count": 292,
   "id": "b269a97c-35db-4d28-a81c-1ee08561df00",
   "metadata": {},
   "outputs": [
    {
     "data": {
      "image/png": "[encoded data removed]",
      "text/plain": [
       "<Figure size 640x480 with 1 Axes>"
      ]
     },
     "metadata": {},
     "output_type": "display_data"
    },
    {
     "name": "stdout",
     "output_type": "stream",
     "text": [
      "Area Under ROC curve : 0.8271632529645307\n",
      "Accuracy score : 0.8009950248756219\n",
      "\n"
     ]
    },
    {
     "data": {
      "image/png": "[encoded data removed]",
      "text/plain": [
       "<Figure size 640x480 with 1 Axes>"
      ]
     },
     "metadata": {},
     "output_type": "display_data"
    },
    {
     "name": "stdout",
     "output_type": "stream",
     "text": [
      "Area Under ROC curve : 0.8250019719717087\n",
      "Accuracy score : 0.7981520966595593\n",
      "\n"
     ]
    },
    {
     "data": {
      "image/png": "[encoded data removed]",
      "text/plain": [
       "<Figure size 640x480 with 1 Axes>"
      ]
     },
     "metadata": {},
     "output_type": "display_data"
    },
    {
     "name": "stdout",
     "output_type": "stream",
     "text": [
      "Area Under ROC curve : 0.8349354507927326\n",
      "Accuracy score : 0.8009950248756219\n",
      "\n"
     ]
    },
    {
     "data": {
      "image/png": "[encoded data removed]",
      "text/plain": [
       "<Figure size 640x480 with 1 Axes>"
      ]
     },
     "metadata": {},
     "output_type": "display_data"
    },
    {
     "name": "stdout",
     "output_type": "stream",
     "text": [
      "Area Under ROC curve : 0.82272237267636\n",
      "Accuracy score : 0.751954513148543\n",
      "\n"
     ]
    },
    {
     "data": {
      "image/png": "[encoded data removed]",
      "text/plain": [
       "<Figure size 640x480 with 1 Axes>"
      ]
     },
     "metadata": {},
     "output_type": "display_data"
    },
    {
     "name": "stdout",
     "output_type": "stream",
     "text": [
      "Area Under ROC curve : 0.8285436331606764\n",
      "Accuracy score : 0.7953091684434968\n",
      "\n"
     ]
    }
   ],
   "source": [
    "# Iterating through each model in the dictionary and evaluating its performance on the test set\n",
    "\n",
    "for name, model in models.items() :\n",
    "    model.fit(X_train, y_train)\n",
    "    y_pred = model.predict(X_test)\n",
    "    y_pred_probs = model.predict_proba(X_test)[:, 1]\n",
    "    accuracy = accuracy_score(y_test, y_pred)\n",
    "\n",
    "     # Calculating predicted probabilities for positive class\n",
    "    \n",
    "    fpr, tpr, thresholds = roc_curve(y_test, y_pred_probs)\n",
    "    plt.plot([0, 1], [0, 1], '--k')\n",
    "    plt.plot(fpr, tpr)\n",
    "    plt.title('ROC curve of {}'.format(name))\n",
    "    plt.xlabel('False positive rate')\n",
    "    plt.ylabel('True positive rate')\n",
    "    plt.show()\n",
    "    \n",
    "    print('Area Under ROC curve :', roc_auc_score(y_test, y_pred_probs))\n",
    "    print('Accuracy score :', accuracy)\n",
    "    print()"
   ]
  },
  {
   "cell_type": "code",
   "execution_count": null,
   "id": "f6d67962-ccff-4662-99d4-9e0e2d174a4a",
   "metadata": {},
   "outputs": [],
   "source": []
  }
 ],
 "metadata": {
  "kernelspec": {
   "display_name": "Python 3 (ipykernel)",
   "language": "python",
   "name": "python3"
  },
  "language_info": {
   "codemirror_mode": {
    "name": "ipython",
    "version": 3
   },
   "file_extension": ".py",
   "mimetype": "text/x-python",
   "name": "python",
   "nbconvert_exporter": "python",
   "pygments_lexer": "ipython3",
   "version": "3.11.6"
  }
 },
 "nbformat": 4,
 "nbformat_minor": 5
}
